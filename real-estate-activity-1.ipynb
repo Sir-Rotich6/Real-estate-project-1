{
 "cells": [
  {
   "cell_type": "markdown",
   "id": "d4eb50a4",
   "metadata": {
    "_cell_guid": "b1076dfc-b9ad-4769-8c92-a6c4dae69d19",
    "_uuid": "8f2839f25d086af736a60e9eeb907d3b93b6e0e5",
    "papermill": {
     "duration": 0.021353,
     "end_time": "2024-05-28T18:42:26.467480",
     "exception": false,
     "start_time": "2024-05-28T18:42:26.446127",
     "status": "completed"
    },
    "tags": []
   },
   "source": [
    "# **Tabular Data and Python Data Structures**"
   ]
  },
  {
   "cell_type": "markdown",
   "id": "4bb959e2",
   "metadata": {
    "papermill": {
     "duration": 0.020387,
     "end_time": "2024-05-28T18:42:26.508954",
     "exception": false,
     "start_time": "2024-05-28T18:42:26.488567",
     "status": "completed"
    },
    "tags": []
   },
   "source": [
    "**Working with Lists**"
   ]
  },
  {
   "cell_type": "markdown",
   "id": "ed299579",
   "metadata": {
    "papermill": {
     "duration": 0.022798,
     "end_time": "2024-05-28T18:42:26.552522",
     "exception": false,
     "start_time": "2024-05-28T18:42:26.529724",
     "status": "completed"
    },
    "tags": []
   },
   "source": [
    "Python comes with several data structures that we can use to organize tabular data. Let's start by putting a single observation in a list."
   ]
  },
  {
   "cell_type": "code",
   "execution_count": 1,
   "id": "3410c8a9",
   "metadata": {
    "execution": {
     "iopub.execute_input": "2024-05-28T18:42:26.596982Z",
     "iopub.status.busy": "2024-05-28T18:42:26.596218Z",
     "iopub.status.idle": "2024-05-28T18:42:26.616874Z",
     "shell.execute_reply": "2024-05-28T18:42:26.615277Z"
    },
    "papermill": {
     "duration": 0.046587,
     "end_time": "2024-05-28T18:42:26.619845",
     "exception": false,
     "start_time": "2024-05-28T18:42:26.573258",
     "status": "completed"
    },
    "tags": []
   },
   "outputs": [
    {
     "name": "stdout",
     "output_type": "stream",
     "text": [
      "house_2_list type: <class 'list'>\n",
      "house_2_list length: 3\n"
     ]
    },
    {
     "data": {
      "text/plain": [
       "[12345.56, 252, 6]"
      ]
     },
     "execution_count": 1,
     "metadata": {},
     "output_type": "execute_result"
    }
   ],
   "source": [
    "# Declare variable `house_2_list`\n",
    "house_2_list = [12345.56, 252, 6]\n",
    "\n",
    "# Print object type of `house_2_list`\n",
    "print(\"house_2_list type:\", type(house_2_list))\n",
    "\n",
    "# Print length of `house_2_list`\n",
    "print(\"house_2_list length:\", len(house_2_list))\n",
    "\n",
    "# Get output of `house_2_list`\n",
    "house_2_list"
   ]
  },
  {
   "cell_type": "markdown",
   "id": "be3b344f",
   "metadata": {
    "papermill": {
     "duration": 0.021003,
     "end_time": "2024-05-28T18:42:26.662335",
     "exception": false,
     "start_time": "2024-05-28T18:42:26.641332",
     "status": "completed"
    },
    "tags": []
   },
   "source": [
    "One metric that people in the real estate industry look at is price per square meter because it allows them to compare houses of different sizes. Can you use the information in this list to calculate the price per square meter for house_2?"
   ]
  },
  {
   "cell_type": "markdown",
   "id": "59c044a0",
   "metadata": {
    "papermill": {
     "duration": 0.021911,
     "end_time": "2024-05-28T18:42:26.706191",
     "exception": false,
     "start_time": "2024-05-28T18:42:26.684280",
     "status": "completed"
    },
    "tags": []
   },
   "source": [
    "In Python, a list is a collection of data that stores multiple items in a single variable. These items must be ordered, able to be changed, and can be duplicated. A list can store data of multiple types; not all the items in the list need to be the same type."
   ]
  },
  {
   "cell_type": "markdown",
   "id": "6d9c6bb0",
   "metadata": {
    "papermill": {
     "duration": 0.020973,
     "end_time": "2024-05-28T18:42:26.748463",
     "exception": false,
     "start_time": "2024-05-28T18:42:26.727490",
     "status": "completed"
    },
    "tags": []
   },
   "source": [
    "Lists are written with square brackets."
   ]
  },
  {
   "cell_type": "markdown",
   "id": "3f18a3bd",
   "metadata": {
    "papermill": {
     "duration": 0.020829,
     "end_time": "2024-05-28T18:42:26.790713",
     "exception": false,
     "start_time": "2024-05-28T18:42:26.769884",
     "status": "completed"
    },
    "tags": []
   },
   "source": [
    "After you've created a list, you can access any item on the list by referring to the item's index number. Keep in mind that in Python, the first item in a list is always 0."
   ]
  },
  {
   "cell_type": "code",
   "execution_count": 2,
   "id": "77cd4b59",
   "metadata": {
    "execution": {
     "iopub.execute_input": "2024-05-28T18:42:26.835271Z",
     "iopub.status.busy": "2024-05-28T18:42:26.834818Z",
     "iopub.status.idle": "2024-05-28T18:42:26.844588Z",
     "shell.execute_reply": "2024-05-28T18:42:26.843094Z"
    },
    "papermill": {
     "duration": 0.035798,
     "end_time": "2024-05-28T18:42:26.847698",
     "exception": false,
     "start_time": "2024-05-28T18:42:26.811900",
     "status": "completed"
    },
    "tags": []
   },
   "outputs": [
    {
     "name": "stdout",
     "output_type": "stream",
     "text": [
      "house_2_price_m2 type: <class 'list'>\n"
     ]
    },
    {
     "data": {
      "text/plain": [
       "[48.990317460317456]"
      ]
     },
     "execution_count": 2,
     "metadata": {},
     "output_type": "execute_result"
    }
   ],
   "source": [
    "# Declare variable `house_2_price_m2`\n",
    "house_2_price_m2 =[12345.56/252]\n",
    "# Print object type of `house_2_price_m2`\n",
    "print(\"house_2_price_m2 type:\", type(house_2_price_m2))\n",
    "# Get output of `house_2_price_m2`\n",
    "house_2_price_m2"
   ]
  },
  {
   "cell_type": "markdown",
   "id": "d9acb7c3",
   "metadata": {
    "papermill": {
     "duration": 0.022638,
     "end_time": "2024-05-28T18:42:26.892846",
     "exception": false,
     "start_time": "2024-05-28T18:42:26.870208",
     "status": "completed"
    },
    "tags": []
   },
   "source": [
    " Next, use the append method to add the price per square meter to the end of the end of house_2."
   ]
  },
  {
   "cell_type": "code",
   "execution_count": 3,
   "id": "4a297db6",
   "metadata": {
    "execution": {
     "iopub.execute_input": "2024-05-28T18:42:26.938208Z",
     "iopub.status.busy": "2024-05-28T18:42:26.937775Z",
     "iopub.status.idle": "2024-05-28T18:42:26.947919Z",
     "shell.execute_reply": "2024-05-28T18:42:26.945805Z"
    },
    "papermill": {
     "duration": 0.035678,
     "end_time": "2024-05-28T18:42:26.950499",
     "exception": false,
     "start_time": "2024-05-28T18:42:26.914821",
     "status": "completed"
    },
    "tags": []
   },
   "outputs": [
    {
     "name": "stdout",
     "output_type": "stream",
     "text": [
      "house_2_list type: <class 'list'>\n",
      "house_2_list length: 4\n"
     ]
    },
    {
     "data": {
      "text/plain": [
       "[12345.56, 252, 6, 120]"
      ]
     },
     "execution_count": 3,
     "metadata": {},
     "output_type": "execute_result"
    }
   ],
   "source": [
    "# Append price / sq. meter to `house_2_list`\n",
    "house_2_list.append(120)\n",
    "\n",
    "# Print object type of `house_2_list`\n",
    "print(\"house_2_list type:\", type(house_2_list))\n",
    "\n",
    "# Print length of `house_2_list`\n",
    "print(\"house_2_list length:\", len(house_2_list))\n",
    "\n",
    "# Get output of `house_2_list`\n",
    "house_2_list"
   ]
  },
  {
   "cell_type": "markdown",
   "id": "7900c499",
   "metadata": {
    "papermill": {
     "duration": 0.021959,
     "end_time": "2024-05-28T18:42:26.994336",
     "exception": false,
     "start_time": "2024-05-28T18:42:26.972377",
     "status": "completed"
    },
    "tags": []
   },
   "source": [
    "The append function in Python is used to add a single element to the end of a list. This method modifies the original list by including the new element as its last item."
   ]
  },
  {
   "cell_type": "markdown",
   "id": "74793762",
   "metadata": {
    "papermill": {
     "duration": 0.021286,
     "end_time": "2024-05-28T18:42:27.038506",
     "exception": false,
     "start_time": "2024-05-28T18:42:27.017220",
     "status": "completed"
    },
    "tags": []
   },
   "source": [
    "**Now that you can work with data for a single house, let's think about how to organize the whole dataset. One option would be to create a list for each observation and then put those together in another list. This is called a nested list.**"
   ]
  },
  {
   "cell_type": "code",
   "execution_count": 4,
   "id": "74b089eb",
   "metadata": {
    "execution": {
     "iopub.execute_input": "2024-05-28T18:42:27.083557Z",
     "iopub.status.busy": "2024-05-28T18:42:27.083145Z",
     "iopub.status.idle": "2024-05-28T18:42:27.094353Z",
     "shell.execute_reply": "2024-05-28T18:42:27.092749Z"
    },
    "papermill": {
     "duration": 0.037013,
     "end_time": "2024-05-28T18:42:27.097017",
     "exception": false,
     "start_time": "2024-05-28T18:42:27.060004",
     "status": "completed"
    },
    "tags": []
   },
   "outputs": [
    {
     "name": "stdout",
     "output_type": "stream",
     "text": [
      "houses_nested_list type: <class 'list'>\n",
      "houses_nested_list length: 5\n"
     ]
    },
    {
     "data": {
      "text/plain": [
       "[[12345.56, 252, 6],\n",
       " [47184.17, 250.0, 5],\n",
       " [28976.6, 48.0, 4],\n",
       " [36928.27, 75.0, 2],\n",
       " [83932.51, 101.0, 7]]"
      ]
     },
     "execution_count": 4,
     "metadata": {},
     "output_type": "execute_result"
    }
   ],
   "source": [
    "# Declare variable `houses_nested_list`\n",
    "houses_nested_list = [\n",
    "    [12345.56, 252, 6],\n",
    "    [47184.17, 250.0, 5],\n",
    "    [28976.6, 48.0, 4],\n",
    "    [36928.27, 75.0, 2],\n",
    "    [83932.51, 101.0, 7],\n",
    "]\n",
    "\n",
    "# Print `houses_nested_list` type\n",
    "print(\"houses_nested_list type:\", type(houses_nested_list))\n",
    "\n",
    "# Print `houses_nested_list` length\n",
    "print(\"houses_nested_list length:\", len(houses_nested_list))\n",
    "\n",
    "# Get output of `houses_nested_list`\n",
    "houses_nested_list"
   ]
  },
  {
   "cell_type": "markdown",
   "id": "35eae8c7",
   "metadata": {
    "papermill": {
     "duration": 0.02133,
     "end_time": "2024-05-28T18:42:27.140010",
     "exception": false,
     "start_time": "2024-05-28T18:42:27.118680",
     "status": "completed"
    },
    "tags": []
   },
   "source": [
    "Now that we have more observations, it doesn't make sense to calculate the price per square meter for each house one-by-one. Instead, we can automate this repetitive task using a for loop."
   ]
  },
  {
   "cell_type": "markdown",
   "id": "2e92b360",
   "metadata": {
    "papermill": {
     "duration": 0.021424,
     "end_time": "2024-05-28T18:42:27.183571",
     "exception": false,
     "start_time": "2024-05-28T18:42:27.162147",
     "status": "completed"
    },
    "tags": []
   },
   "source": [
    " Append the price per square meter to each observation in houses_nested_list using a for loop."
   ]
  },
  {
   "cell_type": "code",
   "execution_count": 5,
   "id": "8f652dae",
   "metadata": {
    "execution": {
     "iopub.execute_input": "2024-05-28T18:42:27.229284Z",
     "iopub.status.busy": "2024-05-28T18:42:27.228756Z",
     "iopub.status.idle": "2024-05-28T18:42:27.240942Z",
     "shell.execute_reply": "2024-05-28T18:42:27.239885Z"
    },
    "papermill": {
     "duration": 0.038461,
     "end_time": "2024-05-28T18:42:27.243819",
     "exception": false,
     "start_time": "2024-05-28T18:42:27.205358",
     "status": "completed"
    },
    "tags": []
   },
   "outputs": [
    {
     "name": "stdout",
     "output_type": "stream",
     "text": [
      "houses_nested_list type: <class 'list'>\n",
      "houses_nested_list length: 5\n"
     ]
    },
    {
     "data": {
      "text/plain": [
       "[[12345.56, 252, 6, 48.990317460317456],\n",
       " [47184.17, 250.0, 5, 188.73668],\n",
       " [28976.6, 48.0, 4, 603.6791666666667],\n",
       " [36928.27, 75.0, 2, 492.3769333333333],\n",
       " [83932.51, 101.0, 7, 831.0149504950494]]"
      ]
     },
     "execution_count": 5,
     "metadata": {},
     "output_type": "execute_result"
    }
   ],
   "source": [
    "# Declare variable `houses_nested_list`\n",
    "houses_nested_list = [\n",
    "    [12345.56, 252, 6],\n",
    "    [47184.17, 250.0, 5],\n",
    "    [28976.6, 48.0, 4],\n",
    "    [36928.27, 75.0, 2],\n",
    "    [83932.51, 101.0, 7],\n",
    "]\n",
    "\n",
    "# Print `houses_nested_list` type\n",
    "print(\"houses_nested_list type:\", type(houses_nested_list))\n",
    "\n",
    "# Print `houses_nested_list` length\n",
    "print(\"houses_nested_list length:\", len(houses_nested_list))\n",
    "\n",
    "# Append price per square meter to each observation\n",
    "for house in houses_nested_list:\n",
    "    price_per_square_meter = house[0] / house[1]\n",
    "    house.append(price_per_square_meter)\n",
    "\n",
    "# Get output of `houses_nested_list`\n",
    "houses_nested_list"
   ]
  },
  {
   "cell_type": "markdown",
   "id": "877ff3da",
   "metadata": {
    "papermill": {
     "duration": 0.023527,
     "end_time": "2024-05-28T18:42:27.291127",
     "exception": false,
     "start_time": "2024-05-28T18:42:27.267600",
     "status": "completed"
    },
    "tags": []
   },
   "source": [
    "# **Working with Dictionaries**"
   ]
  },
  {
   "cell_type": "markdown",
   "id": "818ccc71",
   "metadata": {
    "papermill": {
     "duration": 0.02215,
     "end_time": "2024-05-28T18:42:27.335984",
     "exception": false,
     "start_time": "2024-05-28T18:42:27.313834",
     "status": "completed"
    },
    "tags": []
   },
   "source": [
    "While lists are useful for organizing data, they only store values without context, which can be confusing. For instance, looking at [12345.56, 252, 30], it’s unclear what each number represents—price, area, or something else?\n",
    "\n",
    "Using dictionaries, where each value is paired with a descriptive key, provides clarity. Here’s how house_2 can be represented as a dictionary:"
   ]
  },
  {
   "cell_type": "code",
   "execution_count": 6,
   "id": "0ab7f0cc",
   "metadata": {
    "execution": {
     "iopub.execute_input": "2024-05-28T18:42:27.382888Z",
     "iopub.status.busy": "2024-05-28T18:42:27.382452Z",
     "iopub.status.idle": "2024-05-28T18:42:27.391804Z",
     "shell.execute_reply": "2024-05-28T18:42:27.390408Z"
    },
    "papermill": {
     "duration": 0.035962,
     "end_time": "2024-05-28T18:42:27.394144",
     "exception": false,
     "start_time": "2024-05-28T18:42:27.358182",
     "status": "completed"
    },
    "tags": []
   },
   "outputs": [
    {
     "name": "stdout",
     "output_type": "stream",
     "text": [
      "house_2_dict type: <class 'dict'>\n"
     ]
    },
    {
     "data": {
      "text/plain": [
       "{'price_approx_usd': 12345.56, 'surface_covered_in_m2': 252, 'rooms': 6}"
      ]
     },
     "execution_count": 6,
     "metadata": {},
     "output_type": "execute_result"
    }
   ],
   "source": [
    "# Declare variable `house_2_dict`\n",
    "house_2_dict = {\n",
    "    \"price_approx_usd\": 12345.56,\n",
    "    \"surface_covered_in_m2\": 252,\n",
    "    \"rooms\": 6,\n",
    "}\n",
    "\n",
    "# Print `house_2_dict` type\n",
    "print(\"house_2_dict type:\", type(house_2_dict))\n",
    "\n",
    "# Get output of `house_2_dict`\n",
    "house_2_dict\n"
   ]
  },
  {
   "cell_type": "markdown",
   "id": "84a1a6e8",
   "metadata": {
    "papermill": {
     "duration": 0.022577,
     "end_time": "2024-05-28T18:42:27.439205",
     "exception": false,
     "start_time": "2024-05-28T18:42:27.416628",
     "status": "completed"
    },
    "tags": []
   },
   "source": [
    "Calculate the price per square meter for house_2 and add it to the dictionary under the key \"price_per_m2\"."
   ]
  },
  {
   "cell_type": "code",
   "execution_count": 7,
   "id": "cc76845b",
   "metadata": {
    "execution": {
     "iopub.execute_input": "2024-05-28T18:42:27.579456Z",
     "iopub.status.busy": "2024-05-28T18:42:27.579046Z",
     "iopub.status.idle": "2024-05-28T18:42:27.588935Z",
     "shell.execute_reply": "2024-05-28T18:42:27.587630Z"
    },
    "papermill": {
     "duration": 0.036933,
     "end_time": "2024-05-28T18:42:27.591888",
     "exception": false,
     "start_time": "2024-05-28T18:42:27.554955",
     "status": "completed"
    },
    "tags": []
   },
   "outputs": [
    {
     "name": "stdout",
     "output_type": "stream",
     "text": [
      "house_2_dict type: <class 'dict'>\n"
     ]
    },
    {
     "data": {
      "text/plain": [
       "{'price_approx_usd': 12345.56,\n",
       " 'surface_covered_in_m2': 252,\n",
       " 'rooms': 6,\n",
       " 'price_per_m2': 48.990317460317456}"
      ]
     },
     "execution_count": 7,
     "metadata": {},
     "output_type": "execute_result"
    }
   ],
   "source": [
    "# Declare variable `house_2_dict`\n",
    "house_2_dict = {\n",
    "    \"price_approx_usd\": 12345.56,\n",
    "    \"surface_covered_in_m2\": 252,\n",
    "    \"rooms\": 6,\n",
    "}\n",
    "\n",
    "# Print `house_2_dict` type\n",
    "print(\"house_2_dict type:\", type(house_2_dict))\n",
    "\n",
    "# Calculate price per square meter\n",
    "price_per_m2 = house_2_dict[\"price_approx_usd\"] / house_2_dict[\"surface_covered_in_m2\"]\n",
    "\n",
    "# Add price per square meter to the dictionary\n",
    "house_2_dict[\"price_per_m2\"] = price_per_m2\n",
    "\n",
    "# Get output of `house_2_dict`\n",
    "house_2_dict\n"
   ]
  },
  {
   "cell_type": "markdown",
   "id": "18af6d39",
   "metadata": {
    "papermill": {
     "duration": 0.022988,
     "end_time": "2024-05-28T18:42:27.637649",
     "exception": false,
     "start_time": "2024-05-28T18:42:27.614661",
     "status": "completed"
    },
    "tags": []
   },
   "source": [
    "If we wanted to combine all our observations together, the best way would be to create a list of dictionaries."
   ]
  },
  {
   "cell_type": "code",
   "execution_count": 8,
   "id": "da6d62bc",
   "metadata": {
    "execution": {
     "iopub.execute_input": "2024-05-28T18:42:27.686573Z",
     "iopub.status.busy": "2024-05-28T18:42:27.686187Z",
     "iopub.status.idle": "2024-05-28T18:42:27.699532Z",
     "shell.execute_reply": "2024-05-28T18:42:27.697521Z"
    },
    "papermill": {
     "duration": 0.041128,
     "end_time": "2024-05-28T18:42:27.702679",
     "exception": false,
     "start_time": "2024-05-28T18:42:27.661551",
     "status": "completed"
    },
    "tags": []
   },
   "outputs": [
    {
     "name": "stdout",
     "output_type": "stream",
     "text": [
      "houses_rowwise type: <class 'list'>\n",
      "houses_rowwise length: 5\n"
     ]
    },
    {
     "data": {
      "text/plain": [
       "[{'price_approx_usd': 12345.56, 'surface_covered_in_m2': 252, 'rooms': 6},\n",
       " {'price_approx_usd': 47184.17, 'surface_covered_in_m2': 250, 'rooms': 5},\n",
       " {'price_approx_usd': 28976.6, 'surface_covered_in_m2': 48, 'rooms': 4},\n",
       " {'price_approx_usd': 36928.27, 'surface_covered_in_m2': 75, 'rooms': 2},\n",
       " {'price_approx_usd': 83932.51, 'surface_covered_in_m2': 101, 'rooms': 7}]"
      ]
     },
     "execution_count": 8,
     "metadata": {},
     "output_type": "execute_result"
    }
   ],
   "source": [
    "# Declare variable `houses_rowwise`\n",
    "houses_rowwise = [\n",
    "    {\n",
    "        \"price_approx_usd\": 12345.56,\n",
    "        \"surface_covered_in_m2\": 252,\n",
    "        \"rooms\": 6,\n",
    "    },\n",
    "    {\n",
    "        \"price_approx_usd\": 47184.17,\n",
    "        \"surface_covered_in_m2\": 250,\n",
    "        \"rooms\": 5,\n",
    "    },\n",
    "    {\n",
    "        \"price_approx_usd\": 28976.6,\n",
    "        \"surface_covered_in_m2\": 48,\n",
    "        \"rooms\": 4,\n",
    "    },\n",
    "    {\n",
    "        \"price_approx_usd\": 36928.27,\n",
    "        \"surface_covered_in_m2\": 75,\n",
    "        \"rooms\": 2,\n",
    "    },\n",
    "    {\n",
    "        \"price_approx_usd\": 83932.51,\n",
    "        \"surface_covered_in_m2\": 101,\n",
    "        \"rooms\": 7,\n",
    "    },\n",
    "]\n",
    "\n",
    "# Print `houses_rowwise` object type\n",
    "print(\"houses_rowwise type:\", type(houses_rowwise))\n",
    "\n",
    "# Print `houses_rowwise` length\n",
    "print(\"houses_rowwise length:\", len(houses_rowwise))\n",
    "\n",
    "# Get output of `houses_rowwise`\n",
    "houses_rowwise"
   ]
  },
  {
   "cell_type": "markdown",
   "id": "a0b2800c",
   "metadata": {
    "papermill": {
     "duration": 0.023171,
     "end_time": "2024-05-28T18:42:27.749472",
     "exception": false,
     "start_time": "2024-05-28T18:42:27.726301",
     "status": "completed"
    },
    "tags": []
   },
   "source": [
    "This way of storing data is so popular, it has its own name: JSON. For now, let's build another for loop, but this time, we'll add a add the price per square meter to each dictionary."
   ]
  },
  {
   "cell_type": "markdown",
   "id": "b67b9477",
   "metadata": {
    "papermill": {
     "duration": 0.02301,
     "end_time": "2024-05-28T18:42:27.795778",
     "exception": false,
     "start_time": "2024-05-28T18:42:27.772768",
     "status": "completed"
    },
    "tags": []
   },
   "source": [
    "Using a for loop, calculate the price per square meter and store the result under a \"price_per_m2\" key for each observation in houses_rowwise."
   ]
  },
  {
   "cell_type": "markdown",
   "id": "212c8a6e",
   "metadata": {
    "papermill": {
     "duration": 0.023346,
     "end_time": "2024-05-28T18:42:27.842450",
     "exception": false,
     "start_time": "2024-05-28T18:42:27.819104",
     "status": "completed"
    },
    "tags": []
   },
   "source": [
    "\n",
    "* JSON stands for Java Script Object Notation, and it's a text format for storing and transporting data.\n",
    "* JSON works by creating key-value pairs, where the key is data that can be represented by letters (called a string). JSON values can be strings, numbers, objects, arrays, boolean data, or null. \n",
    "* JSON usually comes as a list of dictionaries."
   ]
  },
  {
   "cell_type": "code",
   "execution_count": 9,
   "id": "b6948f68",
   "metadata": {
    "execution": {
     "iopub.execute_input": "2024-05-28T18:42:27.891802Z",
     "iopub.status.busy": "2024-05-28T18:42:27.891391Z",
     "iopub.status.idle": "2024-05-28T18:42:27.903535Z",
     "shell.execute_reply": "2024-05-28T18:42:27.901828Z"
    },
    "papermill": {
     "duration": 0.041168,
     "end_time": "2024-05-28T18:42:27.906802",
     "exception": false,
     "start_time": "2024-05-28T18:42:27.865634",
     "status": "completed"
    },
    "tags": []
   },
   "outputs": [
    {
     "name": "stdout",
     "output_type": "stream",
     "text": [
      "Before Modification:\n",
      "Type of houses_rowwise: <class 'list'>\n",
      "Length of houses_rowwise: 5\n",
      "\n",
      "After Modification:\n",
      "Type of houses_rowwise: <class 'list'>\n",
      "Length of houses_rowwise: 5\n",
      "\n",
      "Updated houses_rowwise list:\n",
      "{'price_approx_usd': 12345.56, 'surface_covered_in_m2': 252, 'price_per_m2': 48.990317460317456}\n",
      "{'price_approx_usd': 47184.17, 'surface_covered_in_m2': 250, 'price_per_m2': 188.73668}\n",
      "{'price_approx_usd': 28976.56, 'surface_covered_in_m2': 48, 'price_per_m2': 603.6783333333334}\n",
      "{'price_approx_usd': 36928.27, 'surface_covered_in_m2': 75, 'price_per_m2': 492.3769333333333}\n",
      "{'price_approx_usd': 83932.51, 'surface_covered_in_m2': 101, 'price_per_m2': 831.0149504950494}\n"
     ]
    }
   ],
   "source": [
    "# Declare variable `houses_rowwise`\n",
    "houses_rowwise = [\n",
    "    {'price_approx_usd': 12345.56, 'surface_covered_in_m2': 252},\n",
    "    {'price_approx_usd': 47184.17, 'surface_covered_in_m2': 250},\n",
    "    {'price_approx_usd': 28976.56, 'surface_covered_in_m2': 48 },\n",
    "    {'price_approx_usd': 36928.27, 'surface_covered_in_m2': 75 },\n",
    "    {'price_approx_usd': 83932.51, 'surface_covered_in_m2': 101}\n",
    "]\n",
    "\n",
    "# Print \"Before Modification\"\n",
    "print(\"Before Modification:\")\n",
    "print(\"Type of houses_rowwise:\", type(houses_rowwise))\n",
    "print(\"Length of houses_rowwise:\", len(houses_rowwise))\n",
    "\n",
    "# Calculate and store price per square meter for each observation\n",
    "for house in houses_rowwise:\n",
    "    house[\"price_per_m2\"] = house[\"price_approx_usd\"] / house[\"surface_covered_in_m2\"]\n",
    "\n",
    "# Print \"After Modification\"\n",
    "print(\"\\nAfter Modification:\")\n",
    "print(\"Type of houses_rowwise:\", type(houses_rowwise))\n",
    "print(\"Length of houses_rowwise:\", len(houses_rowwise))\n",
    "\n",
    "# Print \"Updated houses_rowwise list\"\n",
    "print(\"\\nUpdated houses_rowwise list:\")\n",
    "for house in houses_rowwise:\n",
    "    print(house)\n"
   ]
  },
  {
   "cell_type": "markdown",
   "id": "ad369cbd",
   "metadata": {
    "papermill": {
     "duration": 0.022973,
     "end_time": "2024-05-28T18:42:27.953400",
     "exception": false,
     "start_time": "2024-05-28T18:42:27.930427",
     "status": "completed"
    },
    "tags": []
   },
   "source": [
    "JSON is a great way to organize data, but it does have some downsides. Note that each dictionary represents a single house or, if we think about it as tabular data, a row in our dataset. This means that it's pretty easy to do row-wise calculations (like we did with price per square meter), but column-wise calculations are more complicated. For instance, what if we wanted to know the mean house price for our dataset? First we'd need to collect the price for each house in a list and then calculate mean."
   ]
  },
  {
   "cell_type": "markdown",
   "id": "ba76f90b",
   "metadata": {
    "papermill": {
     "duration": 0.0228,
     "end_time": "2024-05-28T18:42:27.999751",
     "exception": false,
     "start_time": "2024-05-28T18:42:27.976951",
     "status": "completed"
    },
    "tags": []
   },
   "source": [
    " To calculate the mean price for houses_rowwise by completing the code below."
   ]
  },
  {
   "cell_type": "code",
   "execution_count": 10,
   "id": "44962d54",
   "metadata": {
    "execution": {
     "iopub.execute_input": "2024-05-28T18:42:28.049695Z",
     "iopub.status.busy": "2024-05-28T18:42:28.049297Z",
     "iopub.status.idle": "2024-05-28T18:42:28.059122Z",
     "shell.execute_reply": "2024-05-28T18:42:28.057616Z"
    },
    "papermill": {
     "duration": 0.037456,
     "end_time": "2024-05-28T18:42:28.061721",
     "exception": false,
     "start_time": "2024-05-28T18:42:28.024265",
     "status": "completed"
    },
    "tags": []
   },
   "outputs": [
    {
     "name": "stdout",
     "output_type": "stream",
     "text": [
      "Mean price for houses_rowwise: 41873.414000000004\n"
     ]
    }
   ],
   "source": [
    "# Declare variable `houses_rowwise`\n",
    "houses_rowwise = [\n",
    "    {'price_approx_usd': 12345.56, 'surface_covered_in_m2': 252},\n",
    "    {'price_approx_usd': 47184.17, 'surface_covered_in_m2': 250},\n",
    "    {'price_approx_usd': 28976.56, 'surface_covered_in_m2': 48 },\n",
    "    {'price_approx_usd': 36928.27, 'surface_covered_in_m2': 75 },\n",
    "    {'price_approx_usd': 83932.51, 'surface_covered_in_m2': 101}\n",
    "]\n",
    "\n",
    "# Calculate and store price per square meter for each observation\n",
    "for house in houses_rowwise:\n",
    "    house[\"price_per_m2\"] = house[\"price_approx_usd\"] / house[\"surface_covered_in_m2\"]\n",
    "\n",
    "# Calculate mean price\n",
    "total_price = 0\n",
    "for house in houses_rowwise:\n",
    "    total_price += house[\"price_approx_usd\"]\n",
    "\n",
    "mean_price = total_price / len(houses_rowwise)\n",
    "\n",
    "# Print mean price\n",
    "print(\"Mean price for houses_rowwise:\", mean_price)"
   ]
  },
  {
   "cell_type": "markdown",
   "id": "58975a04",
   "metadata": {
    "papermill": {
     "duration": 0.0231,
     "end_time": "2024-05-28T18:42:28.108352",
     "exception": false,
     "start_time": "2024-05-28T18:42:28.085252",
     "status": "completed"
    },
    "tags": []
   },
   "source": [
    "Organizing data by features instead of observations can simplify calculations like mean prices. By structuring our data with dictionaries and lists, we can enhance readability and ease of computation. Consider the following approach:"
   ]
  },
  {
   "cell_type": "code",
   "execution_count": 11,
   "id": "32c77183",
   "metadata": {
    "execution": {
     "iopub.execute_input": "2024-05-28T18:42:28.156804Z",
     "iopub.status.busy": "2024-05-28T18:42:28.156426Z",
     "iopub.status.idle": "2024-05-28T18:42:28.166617Z",
     "shell.execute_reply": "2024-05-28T18:42:28.165312Z"
    },
    "papermill": {
     "duration": 0.037774,
     "end_time": "2024-05-28T18:42:28.169405",
     "exception": false,
     "start_time": "2024-05-28T18:42:28.131631",
     "status": "completed"
    },
    "tags": []
   },
   "outputs": [
    {
     "name": "stdout",
     "output_type": "stream",
     "text": [
      "houses_features type: <class 'dict'>\n"
     ]
    },
    {
     "data": {
      "text/plain": [
       "{'price_approx_usd': [12345.56, 47184.17, 28976.56, 36928.27, 83932.51],\n",
       " 'surface_covered_in_m2': [252, 250, 48, 75, 101],\n",
       " 'rooms': [6, 5, 4, 2, 7]}"
      ]
     },
     "execution_count": 11,
     "metadata": {},
     "output_type": "execute_result"
    }
   ],
   "source": [
    "# Example of organizing data by features\n",
    "house_features = {\n",
    "    \"price_approx_usd\": [12345.56, 47184.17, 28976.56, 36928.27, 83932.51],\n",
    "    \"surface_covered_in_m2\": [252, 250, 48, 75, 101],\n",
    "    \"rooms\": [6, 5, 4, 2, 7]\n",
    "}\n",
    "# Print `houses_features` object type\n",
    "print(\"houses_features type:\", type(house_features))\n",
    "\n",
    "# Get output of `houses_features`\n",
    "house_features\n"
   ]
  },
  {
   "cell_type": "markdown",
   "id": "9c2aead5",
   "metadata": {
    "papermill": {
     "duration": 0.024015,
     "end_time": "2024-05-28T18:42:28.217432",
     "exception": false,
     "start_time": "2024-05-28T18:42:28.193417",
     "status": "completed"
    },
    "tags": []
   },
   "source": [
    "Calculate the mean house price in house_features"
   ]
  },
  {
   "cell_type": "code",
   "execution_count": 12,
   "id": "e41b99e8",
   "metadata": {
    "execution": {
     "iopub.execute_input": "2024-05-28T18:42:28.267055Z",
     "iopub.status.busy": "2024-05-28T18:42:28.266637Z",
     "iopub.status.idle": "2024-05-28T18:42:28.273197Z",
     "shell.execute_reply": "2024-05-28T18:42:28.272111Z"
    },
    "papermill": {
     "duration": 0.034898,
     "end_time": "2024-05-28T18:42:28.275884",
     "exception": false,
     "start_time": "2024-05-28T18:42:28.240986",
     "status": "completed"
    },
    "tags": []
   },
   "outputs": [
    {
     "name": "stdout",
     "output_type": "stream",
     "text": [
      "Mean house price: 41873.414000000004\n"
     ]
    }
   ],
   "source": [
    "# Example of organizing data by features\n",
    "house_features = {\n",
    "    \"price_approx_usd\": [12345.56, 47184.17, 28976.56, 36928.27, 83932.51]\n",
    "}\n",
    "\n",
    "# Calculate mean price\n",
    "mean_house_price = sum(house_features[\"price_approx_usd\"]) / len(house_features[\"price_approx_usd\"])\n",
    "\n",
    "# Print mean price\n",
    "print(\"Mean house price:\", mean_house_price)\n"
   ]
  },
  {
   "cell_type": "markdown",
   "id": "44c81065",
   "metadata": {
    "papermill": {
     "duration": 0.02336,
     "end_time": "2024-05-28T18:42:28.324977",
     "exception": false,
     "start_time": "2024-05-28T18:42:28.301617",
     "status": "completed"
    },
    "tags": []
   },
   "source": [
    "When we organize our data by columns or features, performing operations across rows can become more complex. However, with a structured approach, we can still handle these operations effectively. "
   ]
  },
  {
   "cell_type": "code",
   "execution_count": 13,
   "id": "9b09229d",
   "metadata": {
    "execution": {
     "iopub.execute_input": "2024-05-28T18:42:28.376484Z",
     "iopub.status.busy": "2024-05-28T18:42:28.376074Z",
     "iopub.status.idle": "2024-05-28T18:42:28.388354Z",
     "shell.execute_reply": "2024-05-28T18:42:28.386816Z"
    },
    "papermill": {
     "duration": 0.041229,
     "end_time": "2024-05-28T18:42:28.390719",
     "exception": false,
     "start_time": "2024-05-28T18:42:28.349490",
     "status": "completed"
    },
    "tags": []
   },
   "outputs": [
    {
     "name": "stdout",
     "output_type": "stream",
     "text": [
      "house_features type: <class 'list'>\n"
     ]
    },
    {
     "data": {
      "text/plain": [
       "[{'price_approx_usd': 12345.56,\n",
       "  'surface_covered_in_m2': 252,\n",
       "  'price_per_m2': 48.990317460317456},\n",
       " {'price_approx_usd': 47184.17,\n",
       "  'surface_covered_in_m2': 250,\n",
       "  'price_per_m2': 188.73668},\n",
       " {'price_approx_usd': 28976.56,\n",
       "  'surface_covered_in_m2': 48,\n",
       "  'price_per_m2': 603.6783333333334},\n",
       " {'price_approx_usd': 36928.27,\n",
       "  'surface_covered_in_m2': 75,\n",
       "  'price_per_m2': 492.3769333333333},\n",
       " {'price_approx_usd': 83932.51,\n",
       "  'surface_covered_in_m2': 101,\n",
       "  'price_per_m2': 831.0149504950494}]"
      ]
     },
     "execution_count": 13,
     "metadata": {},
     "output_type": "execute_result"
    }
   ],
   "source": [
    "# Example of organizing data by features\n",
    "house_features = [\n",
    "    {'price_approx_usd': 12345.56, 'surface_covered_in_m2': 252},\n",
    "    {'price_approx_usd': 47184.17, 'surface_covered_in_m2': 250},\n",
    "    {'price_approx_usd': 28976.56, 'surface_covered_in_m2': 48 },\n",
    "    {'price_approx_usd': 36928.27, 'surface_covered_in_m2': 75 },\n",
    "    {'price_approx_usd': 83932.51, 'surface_covered_in_m2': 101}\n",
    "]\n",
    "\n",
    "# Add \"price_per_m2\" key-value pair for `house_features`\n",
    "for house in house_features:\n",
    "    house[\"price_per_m2\"] = house[\"price_approx_usd\"] / house[\"surface_covered_in_m2\"]\n",
    "\n",
    "# Print `house_features` object type\n",
    "print(\"house_features type:\", type(house_features))\n",
    "\n",
    "# Get output of `house_features`\n",
    "house_features\n"
   ]
  },
  {
   "cell_type": "markdown",
   "id": "67260577",
   "metadata": {
    "papermill": {
     "duration": 0.02405,
     "end_time": "2024-05-28T18:42:28.439225",
     "exception": false,
     "start_time": "2024-05-28T18:42:28.415175",
     "status": "completed"
    },
    "tags": []
   },
   "source": [
    "# **Tabular Data and pandas DataFrames**"
   ]
  },
  {
   "cell_type": "markdown",
   "id": "b2d3c01f",
   "metadata": {
    "papermill": {
     "duration": 0.024111,
     "end_time": "2024-05-28T18:42:28.487857",
     "exception": false,
     "start_time": "2024-05-28T18:42:28.463746",
     "status": "completed"
    },
    "tags": []
   },
   "source": [
    "Working with data in Python using lists and dictionaries is powerful, but it can sometimes feel a bit like navigating through a jungle. Wouldn't it be great if handling data was as smooth as working with a spreadsheet? Well, you're in luck! Python offers a fantastic library called pandas, and it's like a magic wand for tabular data.\n",
    "\n",
    "Imagine Excel or Google Sheets on steroids—pandas takes data organization to a whole new level. With pandas, you can effortlessly wrangle your data into structured tables called DataFrames. These DataFrames are like digital spreadsheets but with superpowers!\n",
    "\n",
    "So, if you're tired of wrestling with lists and dictionaries, pandas is your new best friend in the world of data science. Let's dive in and discover the wonders of pandas!"
   ]
  },
  {
   "cell_type": "markdown",
   "id": "2e615907",
   "metadata": {
    "papermill": {
     "duration": 0.023795,
     "end_time": "2024-05-28T18:42:28.537218",
     "exception": false,
     "start_time": "2024-05-28T18:42:28.513423",
     "status": "completed"
    },
    "tags": []
   },
   "source": [
    "Let's import pandas and then create a DataFrame from house_features."
   ]
  },
  {
   "cell_type": "code",
   "execution_count": 14,
   "id": "d5274684",
   "metadata": {
    "execution": {
     "iopub.execute_input": "2024-05-28T18:42:28.587586Z",
     "iopub.status.busy": "2024-05-28T18:42:28.587121Z",
     "iopub.status.idle": "2024-05-28T18:42:29.724426Z",
     "shell.execute_reply": "2024-05-28T18:42:29.722850Z"
    },
    "papermill": {
     "duration": 1.165999,
     "end_time": "2024-05-28T18:42:29.727303",
     "exception": false,
     "start_time": "2024-05-28T18:42:28.561304",
     "status": "completed"
    },
    "tags": []
   },
   "outputs": [
    {
     "name": "stdout",
     "output_type": "stream",
     "text": [
      "df_houses type: <class 'pandas.core.frame.DataFrame'>\n",
      "df_houses shape: (5, 3)\n"
     ]
    },
    {
     "data": {
      "text/html": [
       "<div>\n",
       "<style scoped>\n",
       "    .dataframe tbody tr th:only-of-type {\n",
       "        vertical-align: middle;\n",
       "    }\n",
       "\n",
       "    .dataframe tbody tr th {\n",
       "        vertical-align: top;\n",
       "    }\n",
       "\n",
       "    .dataframe thead th {\n",
       "        text-align: right;\n",
       "    }\n",
       "</style>\n",
       "<table border=\"1\" class=\"dataframe\">\n",
       "  <thead>\n",
       "    <tr style=\"text-align: right;\">\n",
       "      <th></th>\n",
       "      <th>price_approx_usd</th>\n",
       "      <th>surface_covered_in_m2</th>\n",
       "      <th>price_per_m2</th>\n",
       "    </tr>\n",
       "  </thead>\n",
       "  <tbody>\n",
       "    <tr>\n",
       "      <th>0</th>\n",
       "      <td>12345.56</td>\n",
       "      <td>252</td>\n",
       "      <td>48.990317</td>\n",
       "    </tr>\n",
       "    <tr>\n",
       "      <th>1</th>\n",
       "      <td>47184.17</td>\n",
       "      <td>250</td>\n",
       "      <td>188.736680</td>\n",
       "    </tr>\n",
       "    <tr>\n",
       "      <th>2</th>\n",
       "      <td>28976.56</td>\n",
       "      <td>48</td>\n",
       "      <td>603.678333</td>\n",
       "    </tr>\n",
       "    <tr>\n",
       "      <th>3</th>\n",
       "      <td>36928.27</td>\n",
       "      <td>75</td>\n",
       "      <td>492.376933</td>\n",
       "    </tr>\n",
       "    <tr>\n",
       "      <th>4</th>\n",
       "      <td>83932.51</td>\n",
       "      <td>101</td>\n",
       "      <td>831.014950</td>\n",
       "    </tr>\n",
       "  </tbody>\n",
       "</table>\n",
       "</div>"
      ],
      "text/plain": [
       "   price_approx_usd  surface_covered_in_m2  price_per_m2\n",
       "0          12345.56                    252     48.990317\n",
       "1          47184.17                    250    188.736680\n",
       "2          28976.56                     48    603.678333\n",
       "3          36928.27                     75    492.376933\n",
       "4          83932.51                    101    831.014950"
      ]
     },
     "execution_count": 14,
     "metadata": {},
     "output_type": "execute_result"
    }
   ],
   "source": [
    "# Import pandas library, aliased as `pd`\n",
    "import pandas as pd\n",
    "\n",
    "# Declare variable `df_houses`\n",
    "df_houses = pd.DataFrame(house_features)\n",
    "\n",
    "# Print `df_houses` object type\n",
    "print(\"df_houses type:\", type(df_houses))\n",
    "\n",
    "# Print `df_houses` shape\n",
    "print(\"df_houses shape:\", df_houses.shape)\n",
    "\n",
    "# Get output of `df_houses`\n",
    "df_houses"
   ]
  },
  {
   "cell_type": "markdown",
   "id": "96c92d7c",
   "metadata": {
    "papermill": {
     "duration": 0.024181,
     "end_time": "2024-05-28T18:42:29.775936",
     "exception": false,
     "start_time": "2024-05-28T18:42:29.751755",
     "status": "completed"
    },
    "tags": []
   },
   "source": [
    "* *Congratulations! You've unlocked the secrets of tabular data manipulation, delved into the principles of tidy data, and expertly wielded lists and dictionaries to organize and enhance our real-estate dataset. But hold on to your hats, because the adventure is just beginning!*\n",
    "\n",
    "* *Now, it's time to unleash your newfound skills on the grand stage — the complete dataset! Brace yourself for a journey through over 150,000 observations, as we embark on a thrilling quest to unravel the mysteries of the real estate market in our country.*\n",
    "\n",
    "* *Get ready to dive deep into the heart of data analysis and uncover insights that will reshape your understanding of the real estate landscape. Are you prepared to embark on this epic adventure? Let's dive in and discover what awaits us in the vast sea of data!*"
   ]
  },
  {
   "cell_type": "markdown",
   "id": "01138db4",
   "metadata": {
    "papermill": {
     "duration": 0.025919,
     "end_time": "2024-05-28T18:42:29.826305",
     "exception": false,
     "start_time": "2024-05-28T18:42:29.800386",
     "status": "completed"
    },
    "tags": []
   },
   "source": [
    "# **Import**"
   ]
  },
  {
   "cell_type": "markdown",
   "id": "7e94d903",
   "metadata": {
    "papermill": {
     "duration": 0.024751,
     "end_time": "2024-05-28T18:42:29.875519",
     "exception": false,
     "start_time": "2024-05-28T18:42:29.850768",
     "status": "completed"
    },
    "tags": []
   },
   "source": [
    "The first part of any data science project is preparing your data, which means making sure its in the right place and format for you to conduct your analysis. The first step of any data preparation is importing your raw data and cleaning it.\n",
    "\n",
    "If you look in the small-data directory on your machine, you'll see that the data for this project comes in one CSV files: data.csv"
   ]
  },
  {
   "cell_type": "code",
   "execution_count": 15,
   "id": "776fb608",
   "metadata": {
    "execution": {
     "iopub.execute_input": "2024-05-28T18:42:29.928612Z",
     "iopub.status.busy": "2024-05-28T18:42:29.927950Z",
     "iopub.status.idle": "2024-05-28T18:42:29.965474Z",
     "shell.execute_reply": "2024-05-28T18:42:29.964430Z"
    },
    "papermill": {
     "duration": 0.067309,
     "end_time": "2024-05-28T18:42:29.967840",
     "exception": false,
     "start_time": "2024-05-28T18:42:29.900531",
     "status": "completed"
    },
    "tags": []
   },
   "outputs": [
    {
     "name": "stdout",
     "output_type": "stream",
     "text": [
      "<class 'pandas.core.frame.DataFrame'>\n"
     ]
    },
    {
     "data": {
      "text/plain": [
       "(511, 14)"
      ]
     },
     "execution_count": 15,
     "metadata": {},
     "output_type": "execute_result"
    }
   ],
   "source": [
    "# Load csv files into DataFrames \n",
    "df = pd.read_csv(\"/kaggle/input/real-estate-dataset/data.csv\")\n",
    "print(type(df))\n",
    "df.shape"
   ]
  },
  {
   "cell_type": "markdown",
   "id": "098b093a",
   "metadata": {
    "papermill": {
     "duration": 0.025367,
     "end_time": "2024-05-28T18:42:30.017698",
     "exception": false,
     "start_time": "2024-05-28T18:42:29.992331",
     "status": "completed"
    },
    "tags": []
   },
   "source": [
    "Now that you have your DataFrame, it's time to inspect it to see if it need any cleaning. Let's look at it."
   ]
  },
  {
   "cell_type": "markdown",
   "id": "66e33b47",
   "metadata": {
    "papermill": {
     "duration": 0.023627,
     "end_time": "2024-05-28T18:42:30.065321",
     "exception": false,
     "start_time": "2024-05-28T18:42:30.041694",
     "status": "completed"
    },
    "tags": []
   },
   "source": [
    "Inspect df by looking at its shape attribute. Then use the info method to see the data types and number of missing values for each column. Finally, use the head method to determine to look at the first five rows of your dataset."
   ]
  },
  {
   "cell_type": "code",
   "execution_count": 16,
   "id": "650e216f",
   "metadata": {
    "execution": {
     "iopub.execute_input": "2024-05-28T18:42:30.115616Z",
     "iopub.status.busy": "2024-05-28T18:42:30.114449Z",
     "iopub.status.idle": "2024-05-28T18:42:30.151732Z",
     "shell.execute_reply": "2024-05-28T18:42:30.150556Z"
    },
    "papermill": {
     "duration": 0.0657,
     "end_time": "2024-05-28T18:42:30.154871",
     "exception": false,
     "start_time": "2024-05-28T18:42:30.089171",
     "status": "completed"
    },
    "tags": []
   },
   "outputs": [
    {
     "name": "stdout",
     "output_type": "stream",
     "text": [
      "<class 'pandas.core.frame.DataFrame'>\n",
      "RangeIndex: 511 entries, 0 to 510\n",
      "Data columns (total 14 columns):\n",
      " #   Column   Non-Null Count  Dtype  \n",
      "---  ------   --------------  -----  \n",
      " 0   CRIM     511 non-null    float64\n",
      " 1   ZN       511 non-null    float64\n",
      " 2   INDUS    511 non-null    float64\n",
      " 3   CHAS     511 non-null    int64  \n",
      " 4   NOX      511 non-null    float64\n",
      " 5   RM       506 non-null    float64\n",
      " 6   AGE      511 non-null    float64\n",
      " 7   DIS      511 non-null    float64\n",
      " 8   RAD      511 non-null    int64  \n",
      " 9   TAX      511 non-null    int64  \n",
      " 10  PTRATIO  511 non-null    float64\n",
      " 11  B        511 non-null    float64\n",
      " 12  LSTAT    511 non-null    float64\n",
      " 13  MEDV     511 non-null    float64\n",
      "dtypes: float64(11), int64(3)\n",
      "memory usage: 56.0 KB\n",
      "None\n",
      "      CRIM    ZN  INDUS  CHAS    NOX     RM   AGE     DIS  RAD  TAX  PTRATIO  \\\n",
      "0  0.00632  18.0   2.31     0  0.538  6.575  65.2  4.0900    1  296     15.3   \n",
      "1  0.02731   0.0   7.07     0  0.469  6.421  78.9  4.9671    2  242     17.8   \n",
      "2  0.02729   0.0   7.07     0  0.469  7.185  61.1  4.9671    2  242     17.8   \n",
      "3  0.03237   0.0   2.18     0  0.458  6.998  45.8  6.0622    3  222     18.7   \n",
      "4  0.06905   0.0   2.18     0  0.458  7.147  54.2  6.0622    3  222     18.7   \n",
      "\n",
      "        B  LSTAT  MEDV  \n",
      "0  396.90   4.98  24.0  \n",
      "1  396.90   9.14  21.6  \n",
      "2  392.83   4.03  34.7  \n",
      "3  394.63   2.94  33.4  \n",
      "4  396.90   5.33  36.2  \n"
     ]
    }
   ],
   "source": [
    "# Shape of df: \n",
    "\n",
    "df.shape\n",
    "\n",
    "# \\nInfo of df:\n",
    "\n",
    "print(df.info())\n",
    "\n",
    "# \\nFirst 5 rows of df:\n",
    "\n",
    "print(df.head())\n"
   ]
  },
  {
   "cell_type": "code",
   "execution_count": 17,
   "id": "22f5e40d",
   "metadata": {
    "execution": {
     "iopub.execute_input": "2024-05-28T18:42:30.205955Z",
     "iopub.status.busy": "2024-05-28T18:42:30.205316Z",
     "iopub.status.idle": "2024-05-28T18:42:30.228315Z",
     "shell.execute_reply": "2024-05-28T18:42:30.227066Z"
    },
    "papermill": {
     "duration": 0.051483,
     "end_time": "2024-05-28T18:42:30.230881",
     "exception": false,
     "start_time": "2024-05-28T18:42:30.179398",
     "status": "completed"
    },
    "tags": []
   },
   "outputs": [
    {
     "data": {
      "text/html": [
       "<div>\n",
       "<style scoped>\n",
       "    .dataframe tbody tr th:only-of-type {\n",
       "        vertical-align: middle;\n",
       "    }\n",
       "\n",
       "    .dataframe tbody tr th {\n",
       "        vertical-align: top;\n",
       "    }\n",
       "\n",
       "    .dataframe thead th {\n",
       "        text-align: right;\n",
       "    }\n",
       "</style>\n",
       "<table border=\"1\" class=\"dataframe\">\n",
       "  <thead>\n",
       "    <tr style=\"text-align: right;\">\n",
       "      <th></th>\n",
       "      <th>CRIM</th>\n",
       "      <th>ZN</th>\n",
       "      <th>INDUS</th>\n",
       "      <th>CHAS</th>\n",
       "      <th>NOX</th>\n",
       "      <th>RM</th>\n",
       "      <th>AGE</th>\n",
       "      <th>DIS</th>\n",
       "      <th>RAD</th>\n",
       "      <th>TAX</th>\n",
       "      <th>PTRATIO</th>\n",
       "      <th>B</th>\n",
       "      <th>LSTAT</th>\n",
       "      <th>MEDV</th>\n",
       "    </tr>\n",
       "  </thead>\n",
       "  <tbody>\n",
       "    <tr>\n",
       "      <th>0</th>\n",
       "      <td>0.00632</td>\n",
       "      <td>18.0</td>\n",
       "      <td>2.31</td>\n",
       "      <td>0</td>\n",
       "      <td>0.538</td>\n",
       "      <td>6.575</td>\n",
       "      <td>65.2</td>\n",
       "      <td>4.0900</td>\n",
       "      <td>1</td>\n",
       "      <td>296</td>\n",
       "      <td>15.3</td>\n",
       "      <td>396.90</td>\n",
       "      <td>4.98</td>\n",
       "      <td>24.0</td>\n",
       "    </tr>\n",
       "    <tr>\n",
       "      <th>1</th>\n",
       "      <td>0.02731</td>\n",
       "      <td>0.0</td>\n",
       "      <td>7.07</td>\n",
       "      <td>0</td>\n",
       "      <td>0.469</td>\n",
       "      <td>6.421</td>\n",
       "      <td>78.9</td>\n",
       "      <td>4.9671</td>\n",
       "      <td>2</td>\n",
       "      <td>242</td>\n",
       "      <td>17.8</td>\n",
       "      <td>396.90</td>\n",
       "      <td>9.14</td>\n",
       "      <td>21.6</td>\n",
       "    </tr>\n",
       "    <tr>\n",
       "      <th>2</th>\n",
       "      <td>0.02729</td>\n",
       "      <td>0.0</td>\n",
       "      <td>7.07</td>\n",
       "      <td>0</td>\n",
       "      <td>0.469</td>\n",
       "      <td>7.185</td>\n",
       "      <td>61.1</td>\n",
       "      <td>4.9671</td>\n",
       "      <td>2</td>\n",
       "      <td>242</td>\n",
       "      <td>17.8</td>\n",
       "      <td>392.83</td>\n",
       "      <td>4.03</td>\n",
       "      <td>34.7</td>\n",
       "    </tr>\n",
       "    <tr>\n",
       "      <th>3</th>\n",
       "      <td>0.03237</td>\n",
       "      <td>0.0</td>\n",
       "      <td>2.18</td>\n",
       "      <td>0</td>\n",
       "      <td>0.458</td>\n",
       "      <td>6.998</td>\n",
       "      <td>45.8</td>\n",
       "      <td>6.0622</td>\n",
       "      <td>3</td>\n",
       "      <td>222</td>\n",
       "      <td>18.7</td>\n",
       "      <td>394.63</td>\n",
       "      <td>2.94</td>\n",
       "      <td>33.4</td>\n",
       "    </tr>\n",
       "    <tr>\n",
       "      <th>4</th>\n",
       "      <td>0.06905</td>\n",
       "      <td>0.0</td>\n",
       "      <td>2.18</td>\n",
       "      <td>0</td>\n",
       "      <td>0.458</td>\n",
       "      <td>7.147</td>\n",
       "      <td>54.2</td>\n",
       "      <td>6.0622</td>\n",
       "      <td>3</td>\n",
       "      <td>222</td>\n",
       "      <td>18.7</td>\n",
       "      <td>396.90</td>\n",
       "      <td>5.33</td>\n",
       "      <td>36.2</td>\n",
       "    </tr>\n",
       "  </tbody>\n",
       "</table>\n",
       "</div>"
      ],
      "text/plain": [
       "      CRIM    ZN  INDUS  CHAS    NOX     RM   AGE     DIS  RAD  TAX  PTRATIO  \\\n",
       "0  0.00632  18.0   2.31     0  0.538  6.575  65.2  4.0900    1  296     15.3   \n",
       "1  0.02731   0.0   7.07     0  0.469  6.421  78.9  4.9671    2  242     17.8   \n",
       "2  0.02729   0.0   7.07     0  0.469  7.185  61.1  4.9671    2  242     17.8   \n",
       "3  0.03237   0.0   2.18     0  0.458  6.998  45.8  6.0622    3  222     18.7   \n",
       "4  0.06905   0.0   2.18     0  0.458  7.147  54.2  6.0622    3  222     18.7   \n",
       "\n",
       "        B  LSTAT  MEDV  \n",
       "0  396.90   4.98  24.0  \n",
       "1  396.90   9.14  21.6  \n",
       "2  392.83   4.03  34.7  \n",
       "3  394.63   2.94  33.4  \n",
       "4  396.90   5.33  36.2  "
      ]
     },
     "execution_count": 17,
     "metadata": {},
     "output_type": "execute_result"
    }
   ],
   "source": [
    "df.head()"
   ]
  },
  {
   "cell_type": "code",
   "execution_count": 18,
   "id": "950ab6ce",
   "metadata": {
    "execution": {
     "iopub.execute_input": "2024-05-28T18:42:30.281893Z",
     "iopub.status.busy": "2024-05-28T18:42:30.281276Z",
     "iopub.status.idle": "2024-05-28T18:42:30.305574Z",
     "shell.execute_reply": "2024-05-28T18:42:30.304128Z"
    },
    "papermill": {
     "duration": 0.053546,
     "end_time": "2024-05-28T18:42:30.308944",
     "exception": false,
     "start_time": "2024-05-28T18:42:30.255398",
     "status": "completed"
    },
    "tags": []
   },
   "outputs": [
    {
     "data": {
      "text/html": [
       "<div>\n",
       "<style scoped>\n",
       "    .dataframe tbody tr th:only-of-type {\n",
       "        vertical-align: middle;\n",
       "    }\n",
       "\n",
       "    .dataframe tbody tr th {\n",
       "        vertical-align: top;\n",
       "    }\n",
       "\n",
       "    .dataframe thead th {\n",
       "        text-align: right;\n",
       "    }\n",
       "</style>\n",
       "<table border=\"1\" class=\"dataframe\">\n",
       "  <thead>\n",
       "    <tr style=\"text-align: right;\">\n",
       "      <th></th>\n",
       "      <th>CRIM</th>\n",
       "      <th>ZN</th>\n",
       "      <th>INDUS</th>\n",
       "      <th>CHAS</th>\n",
       "      <th>NOX</th>\n",
       "      <th>RM</th>\n",
       "      <th>AGE</th>\n",
       "      <th>DIS</th>\n",
       "      <th>RAD</th>\n",
       "      <th>TAX</th>\n",
       "      <th>PTRATIO</th>\n",
       "      <th>B</th>\n",
       "      <th>LSTAT</th>\n",
       "      <th>MEDV</th>\n",
       "    </tr>\n",
       "  </thead>\n",
       "  <tbody>\n",
       "    <tr>\n",
       "      <th>506</th>\n",
       "      <td>0.98765</td>\n",
       "      <td>0.0</td>\n",
       "      <td>12.5</td>\n",
       "      <td>0</td>\n",
       "      <td>0.561</td>\n",
       "      <td>6.980</td>\n",
       "      <td>89.0</td>\n",
       "      <td>2.098</td>\n",
       "      <td>3</td>\n",
       "      <td>320</td>\n",
       "      <td>23.0</td>\n",
       "      <td>396.0</td>\n",
       "      <td>12.0</td>\n",
       "      <td>12.0</td>\n",
       "    </tr>\n",
       "    <tr>\n",
       "      <th>507</th>\n",
       "      <td>0.23456</td>\n",
       "      <td>0.0</td>\n",
       "      <td>12.5</td>\n",
       "      <td>0</td>\n",
       "      <td>0.561</td>\n",
       "      <td>6.980</td>\n",
       "      <td>76.0</td>\n",
       "      <td>2.654</td>\n",
       "      <td>3</td>\n",
       "      <td>320</td>\n",
       "      <td>23.0</td>\n",
       "      <td>343.0</td>\n",
       "      <td>25.0</td>\n",
       "      <td>32.0</td>\n",
       "    </tr>\n",
       "    <tr>\n",
       "      <th>508</th>\n",
       "      <td>0.44433</td>\n",
       "      <td>0.0</td>\n",
       "      <td>12.5</td>\n",
       "      <td>0</td>\n",
       "      <td>0.561</td>\n",
       "      <td>6.123</td>\n",
       "      <td>98.0</td>\n",
       "      <td>2.987</td>\n",
       "      <td>3</td>\n",
       "      <td>320</td>\n",
       "      <td>23.0</td>\n",
       "      <td>343.0</td>\n",
       "      <td>21.0</td>\n",
       "      <td>54.0</td>\n",
       "    </tr>\n",
       "    <tr>\n",
       "      <th>509</th>\n",
       "      <td>0.77763</td>\n",
       "      <td>0.0</td>\n",
       "      <td>12.7</td>\n",
       "      <td>0</td>\n",
       "      <td>0.561</td>\n",
       "      <td>6.222</td>\n",
       "      <td>34.0</td>\n",
       "      <td>2.543</td>\n",
       "      <td>3</td>\n",
       "      <td>329</td>\n",
       "      <td>23.0</td>\n",
       "      <td>343.0</td>\n",
       "      <td>76.0</td>\n",
       "      <td>67.0</td>\n",
       "    </tr>\n",
       "    <tr>\n",
       "      <th>510</th>\n",
       "      <td>0.65432</td>\n",
       "      <td>0.0</td>\n",
       "      <td>12.8</td>\n",
       "      <td>0</td>\n",
       "      <td>0.561</td>\n",
       "      <td>6.760</td>\n",
       "      <td>67.0</td>\n",
       "      <td>2.987</td>\n",
       "      <td>3</td>\n",
       "      <td>345</td>\n",
       "      <td>23.0</td>\n",
       "      <td>321.0</td>\n",
       "      <td>45.0</td>\n",
       "      <td>24.0</td>\n",
       "    </tr>\n",
       "  </tbody>\n",
       "</table>\n",
       "</div>"
      ],
      "text/plain": [
       "        CRIM   ZN  INDUS  CHAS    NOX     RM   AGE    DIS  RAD  TAX  PTRATIO  \\\n",
       "506  0.98765  0.0   12.5     0  0.561  6.980  89.0  2.098    3  320     23.0   \n",
       "507  0.23456  0.0   12.5     0  0.561  6.980  76.0  2.654    3  320     23.0   \n",
       "508  0.44433  0.0   12.5     0  0.561  6.123  98.0  2.987    3  320     23.0   \n",
       "509  0.77763  0.0   12.7     0  0.561  6.222  34.0  2.543    3  329     23.0   \n",
       "510  0.65432  0.0   12.8     0  0.561  6.760  67.0  2.987    3  345     23.0   \n",
       "\n",
       "         B  LSTAT  MEDV  \n",
       "506  396.0   12.0  12.0  \n",
       "507  343.0   25.0  32.0  \n",
       "508  343.0   21.0  54.0  \n",
       "509  343.0   76.0  67.0  \n",
       "510  321.0   45.0  24.0  "
      ]
     },
     "execution_count": 18,
     "metadata": {},
     "output_type": "execute_result"
    }
   ],
   "source": [
    "df.tail()"
   ]
  },
  {
   "cell_type": "markdown",
   "id": "d2c4ebc5",
   "metadata": {
    "papermill": {
     "duration": 0.025512,
     "end_time": "2024-05-28T18:42:30.360332",
     "exception": false,
     "start_time": "2024-05-28T18:42:30.334820",
     "status": "completed"
    },
    "tags": []
   },
   "source": [
    "It looks like there are a couple of problems in this DataFrame that you need to solve. First, there are many rows with NaN values in the \"ZN\" and \"CHAS\" columns."
   ]
  },
  {
   "cell_type": "code",
   "execution_count": 19,
   "id": "26056167",
   "metadata": {
    "execution": {
     "iopub.execute_input": "2024-05-28T18:42:30.413712Z",
     "iopub.status.busy": "2024-05-28T18:42:30.413268Z",
     "iopub.status.idle": "2024-05-28T18:42:30.422658Z",
     "shell.execute_reply": "2024-05-28T18:42:30.421701Z"
    },
    "papermill": {
     "duration": 0.038856,
     "end_time": "2024-05-28T18:42:30.424799",
     "exception": false,
     "start_time": "2024-05-28T18:42:30.385943",
     "status": "completed"
    },
    "tags": []
   },
   "outputs": [],
   "source": [
    "# Drop 'ZN'\n",
    "df.drop(columns=[\"ZN\"],inplace=True)\n",
    "\n",
    "# Drop 'CHAS'\n",
    "df.drop(columns=[\"CHAS\"],inplace=True)"
   ]
  },
  {
   "cell_type": "code",
   "execution_count": 20,
   "id": "4c4c079f",
   "metadata": {
    "execution": {
     "iopub.execute_input": "2024-05-28T18:42:30.477907Z",
     "iopub.status.busy": "2024-05-28T18:42:30.477188Z",
     "iopub.status.idle": "2024-05-28T18:42:30.497937Z",
     "shell.execute_reply": "2024-05-28T18:42:30.496851Z"
    },
    "papermill": {
     "duration": 0.050618,
     "end_time": "2024-05-28T18:42:30.500900",
     "exception": false,
     "start_time": "2024-05-28T18:42:30.450282",
     "status": "completed"
    },
    "tags": []
   },
   "outputs": [
    {
     "data": {
      "text/html": [
       "<div>\n",
       "<style scoped>\n",
       "    .dataframe tbody tr th:only-of-type {\n",
       "        vertical-align: middle;\n",
       "    }\n",
       "\n",
       "    .dataframe tbody tr th {\n",
       "        vertical-align: top;\n",
       "    }\n",
       "\n",
       "    .dataframe thead th {\n",
       "        text-align: right;\n",
       "    }\n",
       "</style>\n",
       "<table border=\"1\" class=\"dataframe\">\n",
       "  <thead>\n",
       "    <tr style=\"text-align: right;\">\n",
       "      <th></th>\n",
       "      <th>CRIM</th>\n",
       "      <th>INDUS</th>\n",
       "      <th>NOX</th>\n",
       "      <th>RM</th>\n",
       "      <th>AGE</th>\n",
       "      <th>DIS</th>\n",
       "      <th>RAD</th>\n",
       "      <th>TAX</th>\n",
       "      <th>PTRATIO</th>\n",
       "      <th>B</th>\n",
       "      <th>LSTAT</th>\n",
       "      <th>MEDV</th>\n",
       "    </tr>\n",
       "  </thead>\n",
       "  <tbody>\n",
       "    <tr>\n",
       "      <th>0</th>\n",
       "      <td>0.00632</td>\n",
       "      <td>2.31</td>\n",
       "      <td>0.538</td>\n",
       "      <td>6.575</td>\n",
       "      <td>65.2</td>\n",
       "      <td>4.0900</td>\n",
       "      <td>1</td>\n",
       "      <td>296</td>\n",
       "      <td>15.3</td>\n",
       "      <td>396.90</td>\n",
       "      <td>4.98</td>\n",
       "      <td>24.0</td>\n",
       "    </tr>\n",
       "    <tr>\n",
       "      <th>1</th>\n",
       "      <td>0.02731</td>\n",
       "      <td>7.07</td>\n",
       "      <td>0.469</td>\n",
       "      <td>6.421</td>\n",
       "      <td>78.9</td>\n",
       "      <td>4.9671</td>\n",
       "      <td>2</td>\n",
       "      <td>242</td>\n",
       "      <td>17.8</td>\n",
       "      <td>396.90</td>\n",
       "      <td>9.14</td>\n",
       "      <td>21.6</td>\n",
       "    </tr>\n",
       "    <tr>\n",
       "      <th>2</th>\n",
       "      <td>0.02729</td>\n",
       "      <td>7.07</td>\n",
       "      <td>0.469</td>\n",
       "      <td>7.185</td>\n",
       "      <td>61.1</td>\n",
       "      <td>4.9671</td>\n",
       "      <td>2</td>\n",
       "      <td>242</td>\n",
       "      <td>17.8</td>\n",
       "      <td>392.83</td>\n",
       "      <td>4.03</td>\n",
       "      <td>34.7</td>\n",
       "    </tr>\n",
       "    <tr>\n",
       "      <th>3</th>\n",
       "      <td>0.03237</td>\n",
       "      <td>2.18</td>\n",
       "      <td>0.458</td>\n",
       "      <td>6.998</td>\n",
       "      <td>45.8</td>\n",
       "      <td>6.0622</td>\n",
       "      <td>3</td>\n",
       "      <td>222</td>\n",
       "      <td>18.7</td>\n",
       "      <td>394.63</td>\n",
       "      <td>2.94</td>\n",
       "      <td>33.4</td>\n",
       "    </tr>\n",
       "    <tr>\n",
       "      <th>4</th>\n",
       "      <td>0.06905</td>\n",
       "      <td>2.18</td>\n",
       "      <td>0.458</td>\n",
       "      <td>7.147</td>\n",
       "      <td>54.2</td>\n",
       "      <td>6.0622</td>\n",
       "      <td>3</td>\n",
       "      <td>222</td>\n",
       "      <td>18.7</td>\n",
       "      <td>396.90</td>\n",
       "      <td>5.33</td>\n",
       "      <td>36.2</td>\n",
       "    </tr>\n",
       "  </tbody>\n",
       "</table>\n",
       "</div>"
      ],
      "text/plain": [
       "      CRIM  INDUS    NOX     RM   AGE     DIS  RAD  TAX  PTRATIO       B  \\\n",
       "0  0.00632   2.31  0.538  6.575  65.2  4.0900    1  296     15.3  396.90   \n",
       "1  0.02731   7.07  0.469  6.421  78.9  4.9671    2  242     17.8  396.90   \n",
       "2  0.02729   7.07  0.469  7.185  61.1  4.9671    2  242     17.8  392.83   \n",
       "3  0.03237   2.18  0.458  6.998  45.8  6.0622    3  222     18.7  394.63   \n",
       "4  0.06905   2.18  0.458  7.147  54.2  6.0622    3  222     18.7  396.90   \n",
       "\n",
       "   LSTAT  MEDV  \n",
       "0   4.98  24.0  \n",
       "1   9.14  21.6  \n",
       "2   4.03  34.7  \n",
       "3   2.94  33.4  \n",
       "4   5.33  36.2  "
      ]
     },
     "execution_count": 20,
     "metadata": {},
     "output_type": "execute_result"
    }
   ],
   "source": [
    "df.head()"
   ]
  },
  {
   "cell_type": "code",
   "execution_count": 21,
   "id": "e71e28aa",
   "metadata": {
    "execution": {
     "iopub.execute_input": "2024-05-28T18:42:30.556716Z",
     "iopub.status.busy": "2024-05-28T18:42:30.555487Z",
     "iopub.status.idle": "2024-05-28T18:42:30.568052Z",
     "shell.execute_reply": "2024-05-28T18:42:30.567147Z"
    },
    "papermill": {
     "duration": 0.043349,
     "end_time": "2024-05-28T18:42:30.570639",
     "exception": false,
     "start_time": "2024-05-28T18:42:30.527290",
     "status": "completed"
    },
    "tags": []
   },
   "outputs": [
    {
     "name": "stdout",
     "output_type": "stream",
     "text": [
      "<class 'pandas.core.frame.DataFrame'>\n",
      "RangeIndex: 511 entries, 0 to 510\n",
      "Data columns (total 12 columns):\n",
      " #   Column   Non-Null Count  Dtype  \n",
      "---  ------   --------------  -----  \n",
      " 0   CRIM     511 non-null    float64\n",
      " 1   INDUS    511 non-null    float64\n",
      " 2   NOX      511 non-null    float64\n",
      " 3   RM       506 non-null    float64\n",
      " 4   AGE      511 non-null    float64\n",
      " 5   DIS      511 non-null    float64\n",
      " 6   RAD      511 non-null    int64  \n",
      " 7   TAX      511 non-null    int64  \n",
      " 8   PTRATIO  511 non-null    float64\n",
      " 9   B        511 non-null    float64\n",
      " 10  LSTAT    511 non-null    float64\n",
      " 11  MEDV     511 non-null    float64\n",
      "dtypes: float64(10), int64(2)\n",
      "memory usage: 48.0 KB\n"
     ]
    }
   ],
   "source": [
    "df.info()"
   ]
  },
  {
   "cell_type": "markdown",
   "id": "a4636364",
   "metadata": {
    "papermill": {
     "duration": 0.025263,
     "end_time": "2024-05-28T18:42:30.621838",
     "exception": false,
     "start_time": "2024-05-28T18:42:30.596575",
     "status": "completed"
    },
    "tags": []
   },
   "source": [
    "Save df as a CSV file using the to_csv method. The file path should be \"/kaggle/input/real-estate-dataset/data.csv\". Be sure to set the index argument to False."
   ]
  },
  {
   "cell_type": "markdown",
   "id": "cb5e49ad",
   "metadata": {
    "papermill": {
     "duration": 0.026303,
     "end_time": "2024-05-28T18:42:30.673951",
     "exception": false,
     "start_time": "2024-05-28T18:42:30.647648",
     "status": "completed"
    },
    "tags": []
   },
   "source": [
    "# **Exploratory Data Analysis**"
   ]
  },
  {
   "cell_type": "markdown",
   "id": "128e0faa",
   "metadata": {
    "papermill": {
     "duration": 0.025488,
     "end_time": "2024-05-28T18:42:30.725287",
     "exception": false,
     "start_time": "2024-05-28T18:42:30.699799",
     "status": "completed"
    },
    "tags": []
   },
   "source": [
    "#**Import libraries**"
   ]
  },
  {
   "cell_type": "code",
   "execution_count": 22,
   "id": "0e3bd2f7",
   "metadata": {
    "execution": {
     "iopub.execute_input": "2024-05-28T18:42:30.778851Z",
     "iopub.status.busy": "2024-05-28T18:42:30.777870Z",
     "iopub.status.idle": "2024-05-28T18:42:31.594724Z",
     "shell.execute_reply": "2024-05-28T18:42:31.593447Z"
    },
    "papermill": {
     "duration": 0.847158,
     "end_time": "2024-05-28T18:42:31.598003",
     "exception": false,
     "start_time": "2024-05-28T18:42:30.750845",
     "status": "completed"
    },
    "tags": []
   },
   "outputs": [],
   "source": [
    "import matplotlib.pyplot as plt\n",
    "import pandas as pd\n",
    "import plotly.express as px"
   ]
  },
  {
   "cell_type": "markdown",
   "id": "7c4a7e86",
   "metadata": {
    "papermill": {
     "duration": 0.028534,
     "end_time": "2024-05-28T18:42:31.653446",
     "exception": false,
     "start_time": "2024-05-28T18:42:31.624912",
     "status": "completed"
    },
    "tags": []
   },
   "source": [
    "Read the CSV file that you created in the last notebook (\"/kaggle/input/real-estate-dataset/data.csv\") into a DataFrame named df. Be sure to check that all your columns are the correct data type before you go to the next step."
   ]
  },
  {
   "cell_type": "code",
   "execution_count": 23,
   "id": "87a37b6f",
   "metadata": {
    "execution": {
     "iopub.execute_input": "2024-05-28T18:42:31.713015Z",
     "iopub.status.busy": "2024-05-28T18:42:31.711487Z",
     "iopub.status.idle": "2024-05-28T18:42:31.745739Z",
     "shell.execute_reply": "2024-05-28T18:42:31.744478Z"
    },
    "papermill": {
     "duration": 0.069246,
     "end_time": "2024-05-28T18:42:31.748829",
     "exception": false,
     "start_time": "2024-05-28T18:42:31.679583",
     "status": "completed"
    },
    "tags": []
   },
   "outputs": [
    {
     "name": "stdout",
     "output_type": "stream",
     "text": [
      "df type: <class 'pandas.core.frame.DataFrame'>\n",
      "df shape: (511, 14)\n"
     ]
    },
    {
     "data": {
      "text/html": [
       "<div>\n",
       "<style scoped>\n",
       "    .dataframe tbody tr th:only-of-type {\n",
       "        vertical-align: middle;\n",
       "    }\n",
       "\n",
       "    .dataframe tbody tr th {\n",
       "        vertical-align: top;\n",
       "    }\n",
       "\n",
       "    .dataframe thead th {\n",
       "        text-align: right;\n",
       "    }\n",
       "</style>\n",
       "<table border=\"1\" class=\"dataframe\">\n",
       "  <thead>\n",
       "    <tr style=\"text-align: right;\">\n",
       "      <th></th>\n",
       "      <th>CRIM</th>\n",
       "      <th>ZN</th>\n",
       "      <th>INDUS</th>\n",
       "      <th>CHAS</th>\n",
       "      <th>NOX</th>\n",
       "      <th>RM</th>\n",
       "      <th>AGE</th>\n",
       "      <th>DIS</th>\n",
       "      <th>RAD</th>\n",
       "      <th>TAX</th>\n",
       "      <th>PTRATIO</th>\n",
       "      <th>B</th>\n",
       "      <th>LSTAT</th>\n",
       "      <th>MEDV</th>\n",
       "    </tr>\n",
       "  </thead>\n",
       "  <tbody>\n",
       "    <tr>\n",
       "      <th>0</th>\n",
       "      <td>0.00632</td>\n",
       "      <td>18.0</td>\n",
       "      <td>2.31</td>\n",
       "      <td>0</td>\n",
       "      <td>0.538</td>\n",
       "      <td>6.575</td>\n",
       "      <td>65.2</td>\n",
       "      <td>4.0900</td>\n",
       "      <td>1</td>\n",
       "      <td>296</td>\n",
       "      <td>15.3</td>\n",
       "      <td>396.90</td>\n",
       "      <td>4.98</td>\n",
       "      <td>24.0</td>\n",
       "    </tr>\n",
       "    <tr>\n",
       "      <th>1</th>\n",
       "      <td>0.02731</td>\n",
       "      <td>0.0</td>\n",
       "      <td>7.07</td>\n",
       "      <td>0</td>\n",
       "      <td>0.469</td>\n",
       "      <td>6.421</td>\n",
       "      <td>78.9</td>\n",
       "      <td>4.9671</td>\n",
       "      <td>2</td>\n",
       "      <td>242</td>\n",
       "      <td>17.8</td>\n",
       "      <td>396.90</td>\n",
       "      <td>9.14</td>\n",
       "      <td>21.6</td>\n",
       "    </tr>\n",
       "    <tr>\n",
       "      <th>2</th>\n",
       "      <td>0.02729</td>\n",
       "      <td>0.0</td>\n",
       "      <td>7.07</td>\n",
       "      <td>0</td>\n",
       "      <td>0.469</td>\n",
       "      <td>7.185</td>\n",
       "      <td>61.1</td>\n",
       "      <td>4.9671</td>\n",
       "      <td>2</td>\n",
       "      <td>242</td>\n",
       "      <td>17.8</td>\n",
       "      <td>392.83</td>\n",
       "      <td>4.03</td>\n",
       "      <td>34.7</td>\n",
       "    </tr>\n",
       "    <tr>\n",
       "      <th>3</th>\n",
       "      <td>0.03237</td>\n",
       "      <td>0.0</td>\n",
       "      <td>2.18</td>\n",
       "      <td>0</td>\n",
       "      <td>0.458</td>\n",
       "      <td>6.998</td>\n",
       "      <td>45.8</td>\n",
       "      <td>6.0622</td>\n",
       "      <td>3</td>\n",
       "      <td>222</td>\n",
       "      <td>18.7</td>\n",
       "      <td>394.63</td>\n",
       "      <td>2.94</td>\n",
       "      <td>33.4</td>\n",
       "    </tr>\n",
       "    <tr>\n",
       "      <th>4</th>\n",
       "      <td>0.06905</td>\n",
       "      <td>0.0</td>\n",
       "      <td>2.18</td>\n",
       "      <td>0</td>\n",
       "      <td>0.458</td>\n",
       "      <td>7.147</td>\n",
       "      <td>54.2</td>\n",
       "      <td>6.0622</td>\n",
       "      <td>3</td>\n",
       "      <td>222</td>\n",
       "      <td>18.7</td>\n",
       "      <td>396.90</td>\n",
       "      <td>5.33</td>\n",
       "      <td>36.2</td>\n",
       "    </tr>\n",
       "  </tbody>\n",
       "</table>\n",
       "</div>"
      ],
      "text/plain": [
       "      CRIM    ZN  INDUS  CHAS    NOX     RM   AGE     DIS  RAD  TAX  PTRATIO  \\\n",
       "0  0.00632  18.0   2.31     0  0.538  6.575  65.2  4.0900    1  296     15.3   \n",
       "1  0.02731   0.0   7.07     0  0.469  6.421  78.9  4.9671    2  242     17.8   \n",
       "2  0.02729   0.0   7.07     0  0.469  7.185  61.1  4.9671    2  242     17.8   \n",
       "3  0.03237   0.0   2.18     0  0.458  6.998  45.8  6.0622    3  222     18.7   \n",
       "4  0.06905   0.0   2.18     0  0.458  7.147  54.2  6.0622    3  222     18.7   \n",
       "\n",
       "        B  LSTAT  MEDV  \n",
       "0  396.90   4.98  24.0  \n",
       "1  396.90   9.14  21.6  \n",
       "2  392.83   4.03  34.7  \n",
       "3  394.63   2.94  33.4  \n",
       "4  396.90   5.33  36.2  "
      ]
     },
     "execution_count": 23,
     "metadata": {},
     "output_type": "execute_result"
    }
   ],
   "source": [
    "# Import \"/kaggle/input/real-estate-dataset/data.csv\"\n",
    "df = pd.read_csv(\"/kaggle/input/real-estate-dataset/data.csv\")\n",
    "# Print object type, shape, and head\n",
    "print(\"df type:\", type(df))\n",
    "print(\"df shape:\", df.shape)\n",
    "df.head()"
   ]
  },
  {
   "cell_type": "markdown",
   "id": "c6fa9493",
   "metadata": {
    "papermill": {
     "duration": 0.026633,
     "end_time": "2024-05-28T18:42:31.804342",
     "exception": false,
     "start_time": "2024-05-28T18:42:31.777709",
     "status": "completed"
    },
    "tags": []
   },
   "source": [
    "While there are only two dtypes in our DataFrame (int64 and float64), there are three categories of data: Continuous Data:, Discrete Data, and Categorical Data. Each of these require a different kind of exploration in our analysis."
   ]
  },
  {
   "cell_type": "markdown",
   "id": "b836da9e",
   "metadata": {
    "papermill": {
     "duration": 0.026379,
     "end_time": "2024-05-28T18:42:31.856926",
     "exception": false,
     "start_time": "2024-05-28T18:42:31.830547",
     "status": "completed"
    },
    "tags": []
   },
   "source": [
    "To create a scatter plot using Plotly Express, you would typically use numerical columns from your DataFrame for the x and y axes.\n",
    "If you want to create a scatter plot with different variables, you need to specify appropriate numerical columns from your DataFrame.\n",
    "\n",
    "For example, if you want to create a scatter plot with two continuous variables such as \"CRIM\" (per capita crime rate) and \"MEDV\" (median value of owner-occupied homes), you could replace the values as follows:"
   ]
  },
  {
   "cell_type": "code",
   "execution_count": 24,
   "id": "d096ecf0",
   "metadata": {
    "execution": {
     "iopub.execute_input": "2024-05-28T18:42:31.913439Z",
     "iopub.status.busy": "2024-05-28T18:42:31.912496Z",
     "iopub.status.idle": "2024-05-28T18:42:34.206508Z",
     "shell.execute_reply": "2024-05-28T18:42:34.205131Z"
    },
    "papermill": {
     "duration": 2.32523,
     "end_time": "2024-05-28T18:42:34.209451",
     "exception": false,
     "start_time": "2024-05-28T18:42:31.884221",
     "status": "completed"
    },
    "tags": []
   },
   "outputs": [
    {
     "data": {
      "text/html": [
       "        <script type=\"text/javascript\">\n",
       "        window.PlotlyConfig = {MathJaxConfig: 'local'};\n",
       "        if (window.MathJax && window.MathJax.Hub && window.MathJax.Hub.Config) {window.MathJax.Hub.Config({SVG: {font: \"STIX-Web\"}});}\n",
       "        if (typeof require !== 'undefined') {\n",
       "        require.undef(\"plotly\");\n",
       "        requirejs.config({\n",
       "            paths: {\n",
       "                'plotly': ['https://cdn.plot.ly/plotly-2.27.0.min']\n",
       "            }\n",
       "        });\n",
       "        require(['plotly'], function(Plotly) {\n",
       "            window._Plotly = Plotly;\n",
       "        });\n",
       "        }\n",
       "        </script>\n",
       "        "
      ]
     },
     "metadata": {},
     "output_type": "display_data"
    },
    {
     "data": {
      "text/html": [
       "<div>                            <div id=\"eec8fd29-adb2-41d7-ade8-13a8668e88b9\" class=\"plotly-graph-div\" style=\"height:525px; width:100%;\"></div>            <script type=\"text/javascript\">                require([\"plotly\"], function(Plotly) {                    window.PLOTLYENV=window.PLOTLYENV || {};                                    if (document.getElementById(\"eec8fd29-adb2-41d7-ade8-13a8668e88b9\")) {                    Plotly.newPlot(                        \"eec8fd29-adb2-41d7-ade8-13a8668e88b9\",                        [{\"customdata\":[[296],[242],[242],[222],[222],[222],[311],[311],[311],[311],[311],[311],[311],[307],[307],[307],[307],[307],[307],[307],[307],[307],[307],[307],[307],[307],[307],[307],[307],[307],[307],[307],[307],[307],[307],[279],[279],[279],[279],[252],[252],[233],[233],[233],[233],[233],[233],[233],[233],[233],[243],[243],[243],[243],[469],[226],[313],[256],[284],[284],[284],[284],[284],[284],[216],[337],[337],[345],[345],[345],[305],[305],[305],[305],[398],[398],[398],[398],[398],[398],[281],[281],[281],[281],[247],[247],[247],[247],[270],[270],[270],[270],[270],[270],[270],[276],[276],[276],[276],[276],[384],[384],[384],[384],[384],[384],[384],[384],[384],[384],[384],[432],[432],[432],[432],[432],[432],[432],[432],[432],[188],[188],[188],[188],[188],[188],[188],[437],[437],[437],[437],[437],[437],[437],[437],[437],[437],[437],[437],[437],[437],[437],[403],[403],[403],[403],[403],[403],[403],[403],[403],[403],[403],[403],[403],[403],[403],[403],[403],[403],[403],[403],[403],[403],[403],[403],[403],[403],[403],[403],[403],[403],[296],[296],[296],[296],[296],[296],[296],[193],[193],[193],[193],[193],[193],[193],[193],[398],[398],[398],[398],[398],[398],[265],[265],[255],[329],[329],[329],[402],[402],[348],[348],[224],[224],[277],[277],[277],[277],[277],[277],[277],[277],[277],[277],[277],[276],[276],[276],[276],[307],[307],[307],[307],[307],[307],[307],[307],[307],[307],[307],[307],[307],[307],[307],[307],[307],[307],[300],[300],[300],[300],[300],[300],[330],[330],[330],[330],[330],[330],[330],[330],[330],[330],[315],[315],[244],[264],[264],[264],[264],[264],[264],[264],[264],[264],[264],[264],[264],[223],[223],[223],[223],[223],[254],[254],[254],[254],[254],[216],[216],[216],[216],[198],[285],[300],[241],[293],[293],[293],[245],[245],[245],[289],[289],[289],[289],[289],[358],[358],[358],[329],[329],[329],[222],[222],[222],[222],[304],[304],[304],[304],[304],[304],[304],[304],[304],[304],[304],[304],[287],[287],[287],[287],[287],[287],[287],[287],[430],[430],[430],[304],[304],[224],[224],[224],[224],[224],[224],[224],[224],[284],[422],[370],[370],[352],[352],[351],[280],[335],[335],[411],[411],[187],[334],[334],[666],[666],[666],[666],[666],[666],[666],[666],[666],[666],[666],[666],[666],[666],[666],[666],[666],[666],[666],[666],[666],[666],[666],[666],[666],[666],[666],[666],[666],[666],[666],[666],[666],[666],[666],[666],[666],[666],[666],[666],[666],[666],[666],[666],[666],[666],[666],[666],[666],[666],[666],[666],[666],[666],[666],[666],[666],[666],[666],[666],[666],[666],[666],[666],[666],[666],[666],[666],[666],[666],[666],[666],[666],[666],[666],[666],[666],[666],[666],[666],[666],[666],[666],[666],[666],[666],[666],[666],[666],[666],[666],[666],[666],[666],[666],[666],[666],[666],[666],[666],[666],[666],[666],[666],[666],[666],[666],[666],[666],[666],[666],[666],[666],[666],[666],[666],[666],[666],[666],[666],[666],[666],[666],[666],[666],[666],[666],[666],[666],[666],[666],[666],[711],[711],[711],[711],[711],[391],[391],[391],[391],[391],[391],[391],[391],[273],[273],[273],[273],[273],[320],[320],[320],[329],[345]],\"hovertemplate\":\"CRIM=%{x}\\u003cbr\\u003eMEDV=%{y}\\u003cbr\\u003eTAX=%{customdata[0]}\\u003cextra\\u003e\\u003c\\u002fextra\\u003e\",\"legendgroup\":\"\",\"marker\":{\"color\":\"#636efa\",\"symbol\":\"circle\"},\"mode\":\"markers\",\"name\":\"\",\"orientation\":\"v\",\"showlegend\":false,\"x\":[0.00632,0.02731,0.02729,0.03237,0.06905,0.02985,0.08829,0.14455,0.21124,0.17004,0.22489,0.11747,0.09378,0.62976,0.63796,0.62739,1.05393,0.7842,0.80271,0.7258,1.25179,0.85204,1.23247,0.98843,0.75026,0.84054,0.67191,0.95577,0.77299,1.00245,1.13081,1.35472,1.38799,1.15172,1.61282,0.06417,0.09744,0.08014,0.17505,0.02763,0.03359,0.12744,0.1415,0.15936,0.12269,0.17142,0.18836,0.22927,0.25387,0.21977,0.08873,0.04337,0.0536,0.04981,0.0136,0.01311,0.02055,0.01432,0.15445,0.10328,0.14932,0.17171,0.11027,0.1265,0.01951,0.03584,0.04379,0.05789,0.13554,0.12816,0.08826,0.15876,0.09164,0.19539,0.07896,0.09512,0.10153,0.08707,0.05646,0.08387,0.04113,0.04462,0.03659,0.03551,0.05059,0.05735,0.05188,0.07151,0.0566,0.05302,0.04684,0.03932,0.04203,0.02875,0.04294,0.12204,0.11504,0.12083,0.08187,0.0686,0.14866,0.11432,0.22876,0.21161,0.1396,0.13262,0.1712,0.13117,0.12802,0.26363,0.10793,0.10084,0.12329,0.22212,0.14231,0.17134,0.13158,0.15098,0.13058,0.14476,0.06899,0.07165,0.09299,0.15038,0.09849,0.16902,0.38735,0.25915,0.32543,0.88125,0.34006,1.19294,0.59005,0.32982,0.97617,0.55778,0.32264,0.35233,0.2498,0.54452,0.2909,1.62864,3.32105,4.0974,2.77974,2.37934,2.15505,2.36862,2.33099,2.73397,1.6566,1.49632,1.12658,2.14918,1.41385,3.53501,2.44668,1.22358,1.34284,1.42502,1.27346,1.46336,1.83377,1.51902,2.24236,2.924,2.01019,1.80028,2.3004,2.44953,1.20742,2.3139,0.13914,0.09178,0.08447,0.06664,0.07022,0.05425,0.06642,0.0578,0.06588,0.06888,0.09103,0.10008,0.08308,0.06047,0.05602,0.07875,0.12579,0.0837,0.09068,0.06911,0.08664,0.02187,0.01439,0.01381,0.04011,0.04666,0.03768,0.0315,0.01778,0.03445,0.02177,0.0351,0.02009,0.13642,0.22969,0.25199,0.13587,0.43571,0.17446,0.37578,0.21719,0.14052,0.28955,0.19802,0.0456,0.07013,0.11069,0.11425,0.35809,0.40771,0.62356,0.6147,0.31533,0.52693,0.38214,0.41238,0.29819,0.44178,0.537,0.46296,0.57529,0.33147,0.44791,0.33045,0.52058,0.51183,0.08244,0.09252,0.11329,0.10612,0.1029,0.12757,0.20608,0.19133,0.33983,0.19657,0.16439,0.19073,0.1403,0.21409,0.08221,0.36894,0.04819,0.03548,0.01538,0.61154,0.66351,0.65665,0.54011,0.53412,0.52014,0.82526,0.55007,0.76162,0.7857,0.57834,0.5405,0.09065,0.29916,0.16211,0.1146,0.22188,0.05644,0.09604,0.10469,0.06127,0.07978,0.21038,0.03578,0.03705,0.06129,0.01501,0.00906,0.01096,0.01965,0.03871,0.0459,0.04297,0.03502,0.07886,0.03615,0.08265,0.08199,0.12932,0.05372,0.14103,0.06466,0.05561,0.04417,0.03537,0.09266,0.1,0.05515,0.05479,0.07503,0.04932,0.49298,0.3494,2.63548,0.79041,0.26169,0.26938,0.3692,0.25356,0.31827,0.24522,0.40202,0.47547,0.1676,0.18159,0.35114,0.28392,0.34109,0.19186,0.30347,0.24103,0.06617,0.06724,0.04544,0.05023,0.03466,0.05083,0.03738,0.03961,0.03427,0.03041,0.03306,0.05497,0.06151,0.01301,0.02498,0.02543,0.03049,0.03113,0.06162,0.0187,0.01501,0.02899,0.06211,0.0795,0.07244,0.01709,0.04301,0.10659,8.98296,3.8497,5.20177,4.26131,4.54192,3.83684,3.67822,4.22239,3.47428,4.55587,3.69695,13.5222,4.89822,5.66998,6.53876,9.2323,8.26725,11.1081,18.4982,19.6091,15.288,9.82349,23.6482,17.8667,88.9762,15.8744,9.18702,7.99248,20.0849,16.8118,24.3938,22.5971,14.3337,8.15174,6.96215,5.29305,11.5779,8.64476,13.3598,8.71675,5.87205,7.67202,38.3518,9.91655,25.0461,14.2362,9.59571,24.8017,41.5292,67.9208,20.7162,11.9511,7.40389,14.4383,51.1358,14.0507,18.811,28.6558,45.7461,18.0846,10.8342,25.9406,73.5341,11.8123,11.0874,7.02259,12.0482,7.05042,8.79212,15.8603,12.2472,37.6619,7.36711,9.33889,8.49213,10.0623,6.44405,5.58107,13.9134,11.1604,14.4208,15.1772,13.6781,9.39063,22.0511,9.72418,5.66637,9.96654,12.8023,10.6718,6.28807,9.92485,9.32909,7.52601,6.71772,5.44114,5.09017,8.24809,9.51363,4.75237,4.66883,8.20058,7.75223,6.80117,4.81213,3.69311,6.65492,5.82115,7.83932,3.1636,3.77498,4.42228,15.5757,13.0751,4.34879,4.03841,3.56868,4.64689,8.05579,6.39312,4.87141,15.0234,10.233,14.3337,5.82401,5.70818,5.73116,2.81838,2.37857,3.67367,5.69175,4.83567,0.15086,0.18337,0.20746,0.10574,0.11132,0.17331,0.27957,0.17899,0.2896,0.26838,0.23912,0.17783,0.177783,0.06263,0.04527,0.06076,0.10959,0.04741,0.98765,0.23456,0.44433,0.77763,0.65432],\"xaxis\":\"x\",\"y\":[24.0,21.6,34.7,33.4,36.2,28.7,22.9,27.1,16.5,18.9,15.0,18.9,21.7,20.4,18.2,19.9,23.1,17.5,20.2,18.2,13.6,19.6,15.2,14.5,15.6,13.9,16.6,14.8,18.4,21.0,12.7,14.5,13.2,13.1,13.5,18.9,20.0,21.0,24.7,30.8,34.9,26.6,25.3,24.7,21.2,19.3,20.0,16.6,14.4,19.4,19.7,20.5,25.0,23.4,18.9,35.4,24.7,31.6,23.3,19.6,18.7,16.0,22.2,25.0,33.0,23.5,19.4,22.0,17.4,20.9,24.2,21.7,22.8,23.4,24.1,21.4,20.0,20.8,21.2,20.3,28.0,23.9,24.8,22.9,23.9,26.6,22.5,22.2,23.6,28.7,22.6,22.0,22.9,25.0,20.6,28.4,21.4,38.7,43.8,33.2,27.5,26.5,18.6,19.3,20.1,19.5,19.5,20.4,19.8,19.4,21.7,22.8,18.8,18.7,18.5,18.3,21.2,19.2,20.4,19.3,22.0,20.3,20.5,17.3,18.8,21.4,15.7,16.2,18.0,14.3,19.2,19.6,23.0,18.4,15.6,18.1,17.4,17.1,13.3,17.8,14.0,14.4,13.4,15.6,11.8,13.8,15.6,14.6,17.8,15.4,21.5,19.6,15.3,19.4,17.0,15.6,13.1,41.3,24.3,23.3,27.0,50.0,50.0,50.0,22.7,25.0,50.0,23.8,23.8,22.3,17.4,19.1,23.1,23.6,22.6,29.4,23.2,24.6,29.9,37.2,39.8,36.2,37.9,32.5,26.4,29.6,50.0,32.0,29.8,34.9,37.0,30.5,36.4,31.1,29.1,50.0,33.3,30.3,34.6,34.9,32.9,24.1,42.3,48.5,50.0,22.6,24.4,22.5,24.4,20.0,21.7,19.3,22.4,28.1,23.7,25.0,23.3,28.7,21.5,23.0,26.7,21.7,27.5,30.1,44.8,50.0,37.6,31.6,46.7,31.5,24.3,31.7,41.7,48.3,29.0,24.0,25.1,31.5,23.7,23.3,22.0,20.1,22.2,23.7,17.6,18.5,24.3,20.5,24.5,26.2,24.4,24.8,29.6,42.8,21.9,20.9,44.0,50.0,36.0,30.1,33.8,43.1,48.8,31.0,36.5,22.8,30.7,50.0,43.5,20.7,21.1,25.2,24.4,35.2,32.4,32.0,33.2,33.1,29.1,35.1,45.4,35.4,46.0,50.0,32.2,22.0,20.1,23.2,22.3,24.8,28.5,37.3,27.9,23.9,21.7,28.6,27.1,20.3,22.5,29.0,24.8,22.0,26.4,33.1,36.1,28.4,33.4,28.2,22.8,20.3,16.1,22.1,19.4,21.6,23.8,16.2,17.8,19.8,23.1,21.0,23.8,23.1,20.4,18.5,25.0,24.6,23.0,22.2,19.3,22.6,19.8,17.1,19.4,22.2,20.7,21.1,19.5,18.5,20.6,19.0,18.7,32.7,16.5,23.9,31.2,17.5,17.2,23.1,24.5,26.6,22.9,24.1,18.6,30.1,18.2,20.6,17.8,21.7,22.7,22.6,25.0,19.9,20.8,16.8,21.9,27.5,21.9,23.1,50.0,50.0,50.0,50.0,50.0,13.8,13.8,15.0,13.9,13.3,13.1,10.2,10.4,10.9,11.3,12.3,8.8,7.2,10.5,7.4,10.2,11.5,15.1,23.2,9.7,13.8,12.7,13.1,12.5,8.5,5.0,6.3,5.6,7.2,12.1,8.3,8.5,5.0,11.9,27.9,17.2,27.5,15.0,17.2,17.9,16.3,7.0,7.2,7.5,10.4,8.8,8.4,16.7,14.2,20.8,13.4,11.7,8.3,10.2,10.9,11.0,9.5,14.5,14.1,16.1,14.3,11.7,13.4,9.6,8.7,8.4,12.8,10.5,17.1,18.4,15.4,10.8,11.8,14.9,12.6,14.1,13.0,13.4,15.2,16.1,17.8,14.9,14.1,12.7,13.5,14.9,20.0,16.4,17.7,19.5,20.2,21.4,19.9,19.0,19.1,19.1,20.1,19.9,19.6,23.2,29.8,13.8,13.3,16.7,12.0,14.6,21.4,23.0,23.7,25.0,21.8,20.6,21.2,19.1,20.6,15.2,7.0,8.1,13.6,20.1,21.8,24.5,23.1,19.7,18.3,21.2,17.5,16.8,22.4,20.6,23.9,22.0,11.9,12.0,32.0,54.0,67.0,24.0],\"yaxis\":\"y\",\"type\":\"scatter\"}],                        {\"template\":{\"data\":{\"histogram2dcontour\":[{\"type\":\"histogram2dcontour\",\"colorbar\":{\"outlinewidth\":0,\"ticks\":\"\"},\"colorscale\":[[0.0,\"#0d0887\"],[0.1111111111111111,\"#46039f\"],[0.2222222222222222,\"#7201a8\"],[0.3333333333333333,\"#9c179e\"],[0.4444444444444444,\"#bd3786\"],[0.5555555555555556,\"#d8576b\"],[0.6666666666666666,\"#ed7953\"],[0.7777777777777778,\"#fb9f3a\"],[0.8888888888888888,\"#fdca26\"],[1.0,\"#f0f921\"]]}],\"choropleth\":[{\"type\":\"choropleth\",\"colorbar\":{\"outlinewidth\":0,\"ticks\":\"\"}}],\"histogram2d\":[{\"type\":\"histogram2d\",\"colorbar\":{\"outlinewidth\":0,\"ticks\":\"\"},\"colorscale\":[[0.0,\"#0d0887\"],[0.1111111111111111,\"#46039f\"],[0.2222222222222222,\"#7201a8\"],[0.3333333333333333,\"#9c179e\"],[0.4444444444444444,\"#bd3786\"],[0.5555555555555556,\"#d8576b\"],[0.6666666666666666,\"#ed7953\"],[0.7777777777777778,\"#fb9f3a\"],[0.8888888888888888,\"#fdca26\"],[1.0,\"#f0f921\"]]}],\"heatmap\":[{\"type\":\"heatmap\",\"colorbar\":{\"outlinewidth\":0,\"ticks\":\"\"},\"colorscale\":[[0.0,\"#0d0887\"],[0.1111111111111111,\"#46039f\"],[0.2222222222222222,\"#7201a8\"],[0.3333333333333333,\"#9c179e\"],[0.4444444444444444,\"#bd3786\"],[0.5555555555555556,\"#d8576b\"],[0.6666666666666666,\"#ed7953\"],[0.7777777777777778,\"#fb9f3a\"],[0.8888888888888888,\"#fdca26\"],[1.0,\"#f0f921\"]]}],\"heatmapgl\":[{\"type\":\"heatmapgl\",\"colorbar\":{\"outlinewidth\":0,\"ticks\":\"\"},\"colorscale\":[[0.0,\"#0d0887\"],[0.1111111111111111,\"#46039f\"],[0.2222222222222222,\"#7201a8\"],[0.3333333333333333,\"#9c179e\"],[0.4444444444444444,\"#bd3786\"],[0.5555555555555556,\"#d8576b\"],[0.6666666666666666,\"#ed7953\"],[0.7777777777777778,\"#fb9f3a\"],[0.8888888888888888,\"#fdca26\"],[1.0,\"#f0f921\"]]}],\"contourcarpet\":[{\"type\":\"contourcarpet\",\"colorbar\":{\"outlinewidth\":0,\"ticks\":\"\"}}],\"contour\":[{\"type\":\"contour\",\"colorbar\":{\"outlinewidth\":0,\"ticks\":\"\"},\"colorscale\":[[0.0,\"#0d0887\"],[0.1111111111111111,\"#46039f\"],[0.2222222222222222,\"#7201a8\"],[0.3333333333333333,\"#9c179e\"],[0.4444444444444444,\"#bd3786\"],[0.5555555555555556,\"#d8576b\"],[0.6666666666666666,\"#ed7953\"],[0.7777777777777778,\"#fb9f3a\"],[0.8888888888888888,\"#fdca26\"],[1.0,\"#f0f921\"]]}],\"surface\":[{\"type\":\"surface\",\"colorbar\":{\"outlinewidth\":0,\"ticks\":\"\"},\"colorscale\":[[0.0,\"#0d0887\"],[0.1111111111111111,\"#46039f\"],[0.2222222222222222,\"#7201a8\"],[0.3333333333333333,\"#9c179e\"],[0.4444444444444444,\"#bd3786\"],[0.5555555555555556,\"#d8576b\"],[0.6666666666666666,\"#ed7953\"],[0.7777777777777778,\"#fb9f3a\"],[0.8888888888888888,\"#fdca26\"],[1.0,\"#f0f921\"]]}],\"mesh3d\":[{\"type\":\"mesh3d\",\"colorbar\":{\"outlinewidth\":0,\"ticks\":\"\"}}],\"scatter\":[{\"fillpattern\":{\"fillmode\":\"overlay\",\"size\":10,\"solidity\":0.2},\"type\":\"scatter\"}],\"parcoords\":[{\"type\":\"parcoords\",\"line\":{\"colorbar\":{\"outlinewidth\":0,\"ticks\":\"\"}}}],\"scatterpolargl\":[{\"type\":\"scatterpolargl\",\"marker\":{\"colorbar\":{\"outlinewidth\":0,\"ticks\":\"\"}}}],\"bar\":[{\"error_x\":{\"color\":\"#2a3f5f\"},\"error_y\":{\"color\":\"#2a3f5f\"},\"marker\":{\"line\":{\"color\":\"#E5ECF6\",\"width\":0.5},\"pattern\":{\"fillmode\":\"overlay\",\"size\":10,\"solidity\":0.2}},\"type\":\"bar\"}],\"scattergeo\":[{\"type\":\"scattergeo\",\"marker\":{\"colorbar\":{\"outlinewidth\":0,\"ticks\":\"\"}}}],\"scatterpolar\":[{\"type\":\"scatterpolar\",\"marker\":{\"colorbar\":{\"outlinewidth\":0,\"ticks\":\"\"}}}],\"histogram\":[{\"marker\":{\"pattern\":{\"fillmode\":\"overlay\",\"size\":10,\"solidity\":0.2}},\"type\":\"histogram\"}],\"scattergl\":[{\"type\":\"scattergl\",\"marker\":{\"colorbar\":{\"outlinewidth\":0,\"ticks\":\"\"}}}],\"scatter3d\":[{\"type\":\"scatter3d\",\"line\":{\"colorbar\":{\"outlinewidth\":0,\"ticks\":\"\"}},\"marker\":{\"colorbar\":{\"outlinewidth\":0,\"ticks\":\"\"}}}],\"scattermapbox\":[{\"type\":\"scattermapbox\",\"marker\":{\"colorbar\":{\"outlinewidth\":0,\"ticks\":\"\"}}}],\"scatterternary\":[{\"type\":\"scatterternary\",\"marker\":{\"colorbar\":{\"outlinewidth\":0,\"ticks\":\"\"}}}],\"scattercarpet\":[{\"type\":\"scattercarpet\",\"marker\":{\"colorbar\":{\"outlinewidth\":0,\"ticks\":\"\"}}}],\"carpet\":[{\"aaxis\":{\"endlinecolor\":\"#2a3f5f\",\"gridcolor\":\"white\",\"linecolor\":\"white\",\"minorgridcolor\":\"white\",\"startlinecolor\":\"#2a3f5f\"},\"baxis\":{\"endlinecolor\":\"#2a3f5f\",\"gridcolor\":\"white\",\"linecolor\":\"white\",\"minorgridcolor\":\"white\",\"startlinecolor\":\"#2a3f5f\"},\"type\":\"carpet\"}],\"table\":[{\"cells\":{\"fill\":{\"color\":\"#EBF0F8\"},\"line\":{\"color\":\"white\"}},\"header\":{\"fill\":{\"color\":\"#C8D4E3\"},\"line\":{\"color\":\"white\"}},\"type\":\"table\"}],\"barpolar\":[{\"marker\":{\"line\":{\"color\":\"#E5ECF6\",\"width\":0.5},\"pattern\":{\"fillmode\":\"overlay\",\"size\":10,\"solidity\":0.2}},\"type\":\"barpolar\"}],\"pie\":[{\"automargin\":true,\"type\":\"pie\"}]},\"layout\":{\"autotypenumbers\":\"strict\",\"colorway\":[\"#636efa\",\"#EF553B\",\"#00cc96\",\"#ab63fa\",\"#FFA15A\",\"#19d3f3\",\"#FF6692\",\"#B6E880\",\"#FF97FF\",\"#FECB52\"],\"font\":{\"color\":\"#2a3f5f\"},\"hovermode\":\"closest\",\"hoverlabel\":{\"align\":\"left\"},\"paper_bgcolor\":\"white\",\"plot_bgcolor\":\"#E5ECF6\",\"polar\":{\"bgcolor\":\"#E5ECF6\",\"angularaxis\":{\"gridcolor\":\"white\",\"linecolor\":\"white\",\"ticks\":\"\"},\"radialaxis\":{\"gridcolor\":\"white\",\"linecolor\":\"white\",\"ticks\":\"\"}},\"ternary\":{\"bgcolor\":\"#E5ECF6\",\"aaxis\":{\"gridcolor\":\"white\",\"linecolor\":\"white\",\"ticks\":\"\"},\"baxis\":{\"gridcolor\":\"white\",\"linecolor\":\"white\",\"ticks\":\"\"},\"caxis\":{\"gridcolor\":\"white\",\"linecolor\":\"white\",\"ticks\":\"\"}},\"coloraxis\":{\"colorbar\":{\"outlinewidth\":0,\"ticks\":\"\"}},\"colorscale\":{\"sequential\":[[0.0,\"#0d0887\"],[0.1111111111111111,\"#46039f\"],[0.2222222222222222,\"#7201a8\"],[0.3333333333333333,\"#9c179e\"],[0.4444444444444444,\"#bd3786\"],[0.5555555555555556,\"#d8576b\"],[0.6666666666666666,\"#ed7953\"],[0.7777777777777778,\"#fb9f3a\"],[0.8888888888888888,\"#fdca26\"],[1.0,\"#f0f921\"]],\"sequentialminus\":[[0.0,\"#0d0887\"],[0.1111111111111111,\"#46039f\"],[0.2222222222222222,\"#7201a8\"],[0.3333333333333333,\"#9c179e\"],[0.4444444444444444,\"#bd3786\"],[0.5555555555555556,\"#d8576b\"],[0.6666666666666666,\"#ed7953\"],[0.7777777777777778,\"#fb9f3a\"],[0.8888888888888888,\"#fdca26\"],[1.0,\"#f0f921\"]],\"diverging\":[[0,\"#8e0152\"],[0.1,\"#c51b7d\"],[0.2,\"#de77ae\"],[0.3,\"#f1b6da\"],[0.4,\"#fde0ef\"],[0.5,\"#f7f7f7\"],[0.6,\"#e6f5d0\"],[0.7,\"#b8e186\"],[0.8,\"#7fbc41\"],[0.9,\"#4d9221\"],[1,\"#276419\"]]},\"xaxis\":{\"gridcolor\":\"white\",\"linecolor\":\"white\",\"ticks\":\"\",\"title\":{\"standoff\":15},\"zerolinecolor\":\"white\",\"automargin\":true,\"zerolinewidth\":2},\"yaxis\":{\"gridcolor\":\"white\",\"linecolor\":\"white\",\"ticks\":\"\",\"title\":{\"standoff\":15},\"zerolinecolor\":\"white\",\"automargin\":true,\"zerolinewidth\":2},\"scene\":{\"xaxis\":{\"backgroundcolor\":\"#E5ECF6\",\"gridcolor\":\"white\",\"linecolor\":\"white\",\"showbackground\":true,\"ticks\":\"\",\"zerolinecolor\":\"white\",\"gridwidth\":2},\"yaxis\":{\"backgroundcolor\":\"#E5ECF6\",\"gridcolor\":\"white\",\"linecolor\":\"white\",\"showbackground\":true,\"ticks\":\"\",\"zerolinecolor\":\"white\",\"gridwidth\":2},\"zaxis\":{\"backgroundcolor\":\"#E5ECF6\",\"gridcolor\":\"white\",\"linecolor\":\"white\",\"showbackground\":true,\"ticks\":\"\",\"zerolinecolor\":\"white\",\"gridwidth\":2}},\"shapedefaults\":{\"line\":{\"color\":\"#2a3f5f\"}},\"annotationdefaults\":{\"arrowcolor\":\"#2a3f5f\",\"arrowhead\":0,\"arrowwidth\":1},\"geo\":{\"bgcolor\":\"white\",\"landcolor\":\"#E5ECF6\",\"subunitcolor\":\"white\",\"showland\":true,\"showlakes\":true,\"lakecolor\":\"white\"},\"title\":{\"x\":0.05},\"mapbox\":{\"style\":\"light\"}}},\"xaxis\":{\"anchor\":\"y\",\"domain\":[0.0,1.0],\"title\":{\"text\":\"CRIM\"}},\"yaxis\":{\"anchor\":\"x\",\"domain\":[0.0,1.0],\"title\":{\"text\":\"MEDV\"}},\"legend\":{\"tracegroupgap\":0},\"margin\":{\"t\":60}},                        {\"responsive\": true}                    ).then(function(){\n",
       "                            \n",
       "var gd = document.getElementById('eec8fd29-adb2-41d7-ade8-13a8668e88b9');\n",
       "var x = new MutationObserver(function (mutations, observer) {{\n",
       "        var display = window.getComputedStyle(gd).display;\n",
       "        if (!display || display === 'none') {{\n",
       "            console.log([gd, 'removed!']);\n",
       "            Plotly.purge(gd);\n",
       "            observer.disconnect();\n",
       "        }}\n",
       "}});\n",
       "\n",
       "// Listen for the removal of the full notebook cells\n",
       "var notebookContainer = gd.closest('#notebook-container');\n",
       "if (notebookContainer) {{\n",
       "    x.observe(notebookContainer, {childList: true});\n",
       "}}\n",
       "\n",
       "// Listen for the clearing of the current output cell\n",
       "var outputEl = gd.closest('.output');\n",
       "if (outputEl) {{\n",
       "    x.observe(outputEl, {childList: true});\n",
       "}}\n",
       "\n",
       "                        })                };                });            </script>        </div>"
      ]
     },
     "metadata": {},
     "output_type": "display_data"
    }
   ],
   "source": [
    "# Use plotly express to create figure\n",
    "fig = px.scatter(\n",
    "    df,  # Our DataFrame\n",
    "    x=\"CRIM\",  # Column for x-axis\n",
    "    y=\"MEDV\",  # Column for y-axis\n",
    "    hover_data=[\"TAX\"],  # Display full-value property-tax rate per $10,000 when hovering mouse over points\n",
    ")\n",
    "\n",
    "# Show figure\n",
    "fig.show()\n"
   ]
  },
  {
   "cell_type": "markdown",
   "id": "cbd4f67e",
   "metadata": {
    "papermill": {
     "duration": 0.026807,
     "end_time": "2024-05-28T18:42:34.263791",
     "exception": false,
     "start_time": "2024-05-28T18:42:34.236984",
     "status": "completed"
    },
    "tags": []
   },
   "source": [
    "# **Categorical Data: \"CHAS\"**"
   ]
  },
  {
   "cell_type": "markdown",
   "id": "333e0944",
   "metadata": {
    "papermill": {
     "duration": 0.027931,
     "end_time": "2024-05-28T18:42:34.318766",
     "exception": false,
     "start_time": "2024-05-28T18:42:34.290835",
     "status": "completed"
    },
    "tags": []
   },
   "source": [
    "Even though we can get a good idea of which states are most common in our dataset from looking at a map, we can also get the exact count by using the \"CHAS\" column."
   ]
  },
  {
   "cell_type": "markdown",
   "id": "08c6c9cb",
   "metadata": {
    "papermill": {
     "duration": 0.02669,
     "end_time": "2024-05-28T18:42:34.374121",
     "exception": false,
     "start_time": "2024-05-28T18:42:34.347431",
     "status": "completed"
    },
    "tags": []
   },
   "source": [
    "Use the value_counts method on the \"CHAS\" column to determine the 0 and 1 most prevalent states in our dataset.\n",
    "(Charles River dummy variable, which equals 1 if the tract bounds the river and 0 otherwise)"
   ]
  },
  {
   "cell_type": "code",
   "execution_count": 25,
   "id": "1e7b8830",
   "metadata": {
    "execution": {
     "iopub.execute_input": "2024-05-28T18:42:34.431743Z",
     "iopub.status.busy": "2024-05-28T18:42:34.430109Z",
     "iopub.status.idle": "2024-05-28T18:42:34.443578Z",
     "shell.execute_reply": "2024-05-28T18:42:34.442279Z"
    },
    "papermill": {
     "duration": 0.0448,
     "end_time": "2024-05-28T18:42:34.446259",
     "exception": false,
     "start_time": "2024-05-28T18:42:34.401459",
     "status": "completed"
    },
    "tags": []
   },
   "outputs": [
    {
     "data": {
      "text/plain": [
       "CHAS\n",
       "0    476\n",
       "1     35\n",
       "Name: count, dtype: int64"
      ]
     },
     "execution_count": 25,
     "metadata": {},
     "output_type": "execute_result"
    }
   ],
   "source": [
    "# Get value counts of \"state\" column\n",
    "df[\"CHAS\"].value_counts().head()"
   ]
  },
  {
   "cell_type": "code",
   "execution_count": 26,
   "id": "bdefd993",
   "metadata": {
    "execution": {
     "iopub.execute_input": "2024-05-28T18:42:34.502272Z",
     "iopub.status.busy": "2024-05-28T18:42:34.501788Z",
     "iopub.status.idle": "2024-05-28T18:42:34.517274Z",
     "shell.execute_reply": "2024-05-28T18:42:34.515884Z"
    },
    "papermill": {
     "duration": 0.046602,
     "end_time": "2024-05-28T18:42:34.519992",
     "exception": false,
     "start_time": "2024-05-28T18:42:34.473390",
     "status": "completed"
    },
    "tags": []
   },
   "outputs": [
    {
     "data": {
      "text/plain": [
       "<bound method NDFrame.describe of        NOX   AGE\n",
       "0    0.538  65.2\n",
       "1    0.469  78.9\n",
       "2    0.469  61.1\n",
       "3    0.458  45.8\n",
       "4    0.458  54.2\n",
       "..     ...   ...\n",
       "506  0.561  89.0\n",
       "507  0.561  76.0\n",
       "508  0.561  98.0\n",
       "509  0.561  34.0\n",
       "510  0.561  67.0\n",
       "\n",
       "[511 rows x 2 columns]>"
      ]
     },
     "execution_count": 26,
     "metadata": {},
     "output_type": "execute_result"
    }
   ],
   "source": [
    "# Describe \"NOX\", \"AGE\" columns\n",
    "df[[\"NOX\",\"AGE\"]].describe"
   ]
  },
  {
   "cell_type": "code",
   "execution_count": 27,
   "id": "38b88892",
   "metadata": {
    "execution": {
     "iopub.execute_input": "2024-05-28T18:42:34.577886Z",
     "iopub.status.busy": "2024-05-28T18:42:34.577441Z",
     "iopub.status.idle": "2024-05-28T18:42:34.942080Z",
     "shell.execute_reply": "2024-05-28T18:42:34.940676Z"
    },
    "papermill": {
     "duration": 0.39757,
     "end_time": "2024-05-28T18:42:34.944827",
     "exception": false,
     "start_time": "2024-05-28T18:42:34.547257",
     "status": "completed"
    },
    "tags": []
   },
   "outputs": [
    {
     "data": {
      "text/plain": [
       "Text(0.5, 1.0, 'Distribution of CRIM')"
      ]
     },
     "execution_count": 27,
     "metadata": {},
     "output_type": "execute_result"
    },
    {
     "data": {
      "image/png": "[encoded data removed]",
      "text/plain": [
       "<Figure size 640x480 with 1 Axes>"
      ]
     },
     "metadata": {},
     "output_type": "display_data"
    }
   ],
   "source": [
    "# Use Matplotlib to create histogram of \"CRIM\"\n",
    "plt.hist(df[\"CRIM\"])\n",
    "\n",
    "# Add x-axis label\n",
    "plt.xlabel(\"Number of criminals\")\n",
    "\n",
    "# Add y-axis label\n",
    "plt.ylabel(\"Frequency\")\n",
    "\n",
    "# Add title\n",
    "plt.title(\"Distribution of CRIM\")"
   ]
  },
  {
   "cell_type": "code",
   "execution_count": 28,
   "id": "a21a5701",
   "metadata": {
    "execution": {
     "iopub.execute_input": "2024-05-28T18:42:35.001559Z",
     "iopub.status.busy": "2024-05-28T18:42:35.001055Z",
     "iopub.status.idle": "2024-05-28T18:42:35.371396Z",
     "shell.execute_reply": "2024-05-28T18:42:35.369834Z"
    },
    "papermill": {
     "duration": 0.402427,
     "end_time": "2024-05-28T18:42:35.374171",
     "exception": false,
     "start_time": "2024-05-28T18:42:34.971744",
     "status": "completed"
    },
    "tags": []
   },
   "outputs": [
    {
     "data": {
      "text/plain": [
       "Text(0.5, 1.0, 'Distribution of ZN in sq ft')"
      ]
     },
     "execution_count": 28,
     "metadata": {},
     "output_type": "execute_result"
    },
    {
     "data": {
      "image/png": "[encoded data removed]",
      "text/plain": [
       "<Figure size 640x480 with 1 Axes>"
      ]
     },
     "metadata": {},
     "output_type": "display_data"
    }
   ],
   "source": [
    "# Use Matplotlib to create histogram of \"ZN\"\n",
    "plt.hist(df[\"ZN\"])\n",
    "\n",
    "# Add x-axis label\n",
    "plt.xlabel(\"Area [sq ft]\")\n",
    "\n",
    "# Add y-axis label\n",
    "plt.ylabel(\"Distribution\")\n",
    "\n",
    "# Add title\n",
    "plt.title(\"Distribution of ZN in sq ft\")"
   ]
  },
  {
   "cell_type": "code",
   "execution_count": 29,
   "id": "ae9bb197",
   "metadata": {
    "execution": {
     "iopub.execute_input": "2024-05-28T18:42:35.432173Z",
     "iopub.status.busy": "2024-05-28T18:42:35.431682Z",
     "iopub.status.idle": "2024-05-28T18:42:35.781350Z",
     "shell.execute_reply": "2024-05-28T18:42:35.779813Z"
    },
    "papermill": {
     "duration": 0.382269,
     "end_time": "2024-05-28T18:42:35.784234",
     "exception": false,
     "start_time": "2024-05-28T18:42:35.401965",
     "status": "completed"
    },
    "tags": []
   },
   "outputs": [
    {
     "data": {
      "text/plain": [
       "Text(0.5, 1.0, 'Distribution of INDUS')"
      ]
     },
     "execution_count": 29,
     "metadata": {},
     "output_type": "execute_result"
    },
    {
     "data": {
      "image/png": "[encoded data removed]",
      "text/plain": [
       "<Figure size 640x480 with 1 Axes>"
      ]
     },
     "metadata": {},
     "output_type": "display_data"
    }
   ],
   "source": [
    "# Use Matplotlib to create histogram of \"INDUS\"\n",
    "plt.hist(df[\"INDUS\"])\n",
    "\n",
    "# Add x-axis label\n",
    "plt.xlabel(\"Acres\")\n",
    "\n",
    "# Add y-axis label\n",
    "plt.ylabel(\"count\")\n",
    "\n",
    "# Add title\n",
    "plt.title(\"Distribution of INDUS\")"
   ]
  },
  {
   "cell_type": "code",
   "execution_count": 30,
   "id": "8068ec88",
   "metadata": {
    "execution": {
     "iopub.execute_input": "2024-05-28T18:42:35.845634Z",
     "iopub.status.busy": "2024-05-28T18:42:35.845130Z",
     "iopub.status.idle": "2024-05-28T18:42:36.185262Z",
     "shell.execute_reply": "2024-05-28T18:42:36.183327Z"
    },
    "papermill": {
     "duration": 0.375746,
     "end_time": "2024-05-28T18:42:36.188376",
     "exception": false,
     "start_time": "2024-05-28T18:42:35.812630",
     "status": "completed"
    },
    "tags": []
   },
   "outputs": [
    {
     "data": {
      "text/plain": [
       "Text(0.5, 1.0, 'Distribution of ')"
      ]
     },
     "execution_count": 30,
     "metadata": {},
     "output_type": "execute_result"
    },
    {
     "data": {
      "image/png": "[encoded data removed]",
      "text/plain": [
       "<Figure size 640x480 with 1 Axes>"
      ]
     },
     "metadata": {},
     "output_type": "display_data"
    }
   ],
   "source": [
    "# Use Matplotlib to create histogram of \"CHAS\"\n",
    "plt.hist(df[\"CHAS\"])\n",
    "\n",
    "# Add x-axis label\n",
    "plt.xlabel(\"Riverside\")\n",
    "\n",
    "# Add y-axis label\n",
    "plt.ylabel(\"Counts\")\n",
    "\n",
    "# Add title\n",
    "plt.title(\"Distribution of \")"
   ]
  },
  {
   "cell_type": "code",
   "execution_count": 31,
   "id": "5ae05bd2",
   "metadata": {
    "execution": {
     "iopub.execute_input": "2024-05-28T18:42:36.250397Z",
     "iopub.status.busy": "2024-05-28T18:42:36.249837Z",
     "iopub.status.idle": "2024-05-28T18:42:36.587743Z",
     "shell.execute_reply": "2024-05-28T18:42:36.586200Z"
    },
    "papermill": {
     "duration": 0.372675,
     "end_time": "2024-05-28T18:42:36.590638",
     "exception": false,
     "start_time": "2024-05-28T18:42:36.217963",
     "status": "completed"
    },
    "tags": []
   },
   "outputs": [
    {
     "data": {
      "text/plain": [
       "Text(0.5, 1.0, 'Distribution of NOX')"
      ]
     },
     "execution_count": 31,
     "metadata": {},
     "output_type": "execute_result"
    },
    {
     "data": {
      "image/png": "[encoded data removed]",
      "text/plain": [
       "<Figure size 640x480 with 1 Axes>"
      ]
     },
     "metadata": {},
     "output_type": "display_data"
    }
   ],
   "source": [
    "# Use Matplotlib to create histogram of \"NOX\"\n",
    "plt.hist(df[\"NOX\"])\n",
    "\n",
    "# Add x-axis label\n",
    "plt.xlabel(\"concentration\")\n",
    "\n",
    "# Add y-axis label\n",
    "plt.ylabel(\"Frequency\")\n",
    "\n",
    "# Add title\n",
    "plt.title(\"Distribution of NOX\")"
   ]
  },
  {
   "cell_type": "code",
   "execution_count": 32,
   "id": "03145467",
   "metadata": {
    "execution": {
     "iopub.execute_input": "2024-05-28T18:42:36.653242Z",
     "iopub.status.busy": "2024-05-28T18:42:36.651826Z",
     "iopub.status.idle": "2024-05-28T18:42:37.017686Z",
     "shell.execute_reply": "2024-05-28T18:42:37.016125Z"
    },
    "papermill": {
     "duration": 0.400774,
     "end_time": "2024-05-28T18:42:37.021086",
     "exception": false,
     "start_time": "2024-05-28T18:42:36.620312",
     "status": "completed"
    },
    "tags": []
   },
   "outputs": [
    {
     "data": {
      "text/plain": [
       "Text(0.5, 1.0, 'Distribution of Home rooms[RM]')"
      ]
     },
     "execution_count": 32,
     "metadata": {},
     "output_type": "execute_result"
    },
    {
     "data": {
      "image/png": "[encoded data removed]",
      "text/plain": [
       "<Figure size 640x480 with 1 Axes>"
      ]
     },
     "metadata": {},
     "output_type": "display_data"
    }
   ],
   "source": [
    "# Use Matplotlib to create histogram of \"RM\"\n",
    "plt.hist(df[\"RM\"])\n",
    "\n",
    "# Add x-axis label\n",
    "plt.xlabel(\"No of rooms\")\n",
    "\n",
    "# Add y-axis label\n",
    "plt.ylabel(\"Houses\")\n",
    "\n",
    "# Add title\n",
    "plt.title(\"Distribution of Home rooms[RM]\")"
   ]
  },
  {
   "cell_type": "code",
   "execution_count": 33,
   "id": "09925507",
   "metadata": {
    "execution": {
     "iopub.execute_input": "2024-05-28T18:42:37.086372Z",
     "iopub.status.busy": "2024-05-28T18:42:37.085045Z",
     "iopub.status.idle": "2024-05-28T18:42:37.437599Z",
     "shell.execute_reply": "2024-05-28T18:42:37.436430Z"
    },
    "papermill": {
     "duration": 0.387877,
     "end_time": "2024-05-28T18:42:37.440356",
     "exception": false,
     "start_time": "2024-05-28T18:42:37.052479",
     "status": "completed"
    },
    "tags": []
   },
   "outputs": [
    {
     "data": {
      "text/plain": [
       "Text(0.5, 1.0, 'Distribution of Home Age prior to 1940')"
      ]
     },
     "execution_count": 33,
     "metadata": {},
     "output_type": "execute_result"
    },
    {
     "data": {
      "image/png": "[encoded data removed]",
      "text/plain": [
       "<Figure size 640x480 with 1 Axes>"
      ]
     },
     "metadata": {},
     "output_type": "display_data"
    }
   ],
   "source": [
    "# Use Matplotlib to create histogram of \"AGE\"\n",
    "plt.hist(df[\"AGE\"])\n",
    "\n",
    "# Add x-axis label\n",
    "plt.xlabel(\"Age\")\n",
    "\n",
    "# Add y-axis label\n",
    "plt.ylabel(\"unit\")\n",
    "\n",
    "# Add title\n",
    "plt.title(\"Distribution of Home Age prior to 1940\")"
   ]
  },
  {
   "cell_type": "code",
   "execution_count": 34,
   "id": "a298d2cb",
   "metadata": {
    "execution": {
     "iopub.execute_input": "2024-05-28T18:42:37.504220Z",
     "iopub.status.busy": "2024-05-28T18:42:37.503095Z",
     "iopub.status.idle": "2024-05-28T18:42:37.861889Z",
     "shell.execute_reply": "2024-05-28T18:42:37.860504Z"
    },
    "papermill": {
     "duration": 0.394021,
     "end_time": "2024-05-28T18:42:37.865245",
     "exception": false,
     "start_time": "2024-05-28T18:42:37.471224",
     "status": "completed"
    },
    "tags": []
   },
   "outputs": [
    {
     "data": {
      "text/plain": [
       "Text(0.5, 1.0, 'Distribution of Home Distance to emloyment centres')"
      ]
     },
     "execution_count": 34,
     "metadata": {},
     "output_type": "execute_result"
    },
    {
     "data": {
      "image/png": "[encoded data removed]",
      "text/plain": [
       "<Figure size 640x480 with 1 Axes>"
      ]
     },
     "metadata": {},
     "output_type": "display_data"
    }
   ],
   "source": [
    "# Use Matplotlib to create histogram of \"DIS\"\n",
    "plt.hist(df[\"DIS\"])\n",
    "\n",
    "# Add x-axis label\n",
    "plt.xlabel(\"Time\")\n",
    "\n",
    "# Add y-axis label\n",
    "plt.ylabel(\"Distance\")\n",
    "\n",
    "# Add title\n",
    "plt.title(\"Distribution of Home Distance to emloyment centres\")"
   ]
  },
  {
   "cell_type": "code",
   "execution_count": 35,
   "id": "5c14e9c6",
   "metadata": {
    "execution": {
     "iopub.execute_input": "2024-05-28T18:42:37.933577Z",
     "iopub.status.busy": "2024-05-28T18:42:37.932735Z",
     "iopub.status.idle": "2024-05-28T18:42:38.264794Z",
     "shell.execute_reply": "2024-05-28T18:42:38.263515Z"
    },
    "papermill": {
     "duration": 0.369337,
     "end_time": "2024-05-28T18:42:38.267721",
     "exception": false,
     "start_time": "2024-05-28T18:42:37.898384",
     "status": "completed"
    },
    "tags": []
   },
   "outputs": [
    {
     "data": {
      "text/plain": [
       "Text(0.5, 1.0, 'Distribution of RAD')"
      ]
     },
     "execution_count": 35,
     "metadata": {},
     "output_type": "execute_result"
    },
    {
     "data": {
      "image/png": "[encoded data removed]",
      "text/plain": [
       "<Figure size 640x480 with 1 Axes>"
      ]
     },
     "metadata": {},
     "output_type": "display_data"
    }
   ],
   "source": [
    "# Use Matplotlib to create histogram of \"RAD\"\n",
    "plt.hist(df[\"RAD\"])\n",
    "\n",
    "# Add x-axis label\n",
    "plt.xlabel(\"Index\")\n",
    "\n",
    "# Add y-axis label\n",
    "plt.ylabel(\"Frequency\")\n",
    "\n",
    "# Add title\n",
    "plt.title(\"Distribution of RAD\")"
   ]
  },
  {
   "cell_type": "code",
   "execution_count": 36,
   "id": "76dcf5b4",
   "metadata": {
    "execution": {
     "iopub.execute_input": "2024-05-28T18:42:38.336267Z",
     "iopub.status.busy": "2024-05-28T18:42:38.335493Z",
     "iopub.status.idle": "2024-05-28T18:42:38.694217Z",
     "shell.execute_reply": "2024-05-28T18:42:38.692849Z"
    },
    "papermill": {
     "duration": 0.396963,
     "end_time": "2024-05-28T18:42:38.696967",
     "exception": false,
     "start_time": "2024-05-28T18:42:38.300004",
     "status": "completed"
    },
    "tags": []
   },
   "outputs": [
    {
     "data": {
      "text/plain": [
       "Text(0.5, 1.0, 'Distribution of Home Property tax rate')"
      ]
     },
     "execution_count": 36,
     "metadata": {},
     "output_type": "execute_result"
    },
    {
     "data": {
      "image/png": "[encoded data removed]",
      "text/plain": [
       "<Figure size 640x480 with 1 Axes>"
      ]
     },
     "metadata": {},
     "output_type": "display_data"
    }
   ],
   "source": [
    "# Use Matplotlib to create histogram of \"TAX\"\n",
    "plt.hist(df[\"TAX\"])\n",
    "\n",
    "# Add x-axis label\n",
    "plt.xlabel(\"Amount\")\n",
    "\n",
    "# Add y-axis label\n",
    "plt.ylabel(\"Rate\")\n",
    "\n",
    "# Add title\n",
    "plt.title(\"Distribution of Home Property tax rate\")"
   ]
  }
 ],
 "metadata": {
  "kaggle": {
   "accelerator": "none",
   "dataSources": [
    {
     "datasetId": 898072,
     "sourceId": 1523358,
     "sourceType": "datasetVersion"
    }
   ],
   "dockerImageVersionId": 30698,
   "isGpuEnabled": false,
   "isInternetEnabled": true,
   "language": "python",
   "sourceType": "notebook"
  },
  "kernelspec": {
   "display_name": "Python 3",
   "language": "python",
   "name": "python3"
  },
  "language_info": {
   "codemirror_mode": {
    "name": "ipython",
    "version": 3
   },
   "file_extension": ".py",
   "mimetype": "text/x-python",
   "name": "python",
   "nbconvert_exporter": "python",
   "pygments_lexer": "ipython3",
   "version": "3.10.13"
  },
  "papermill": {
   "default_parameters": {},
   "duration": 16.682885,
   "end_time": "2024-05-28T18:42:39.654982",
   "environment_variables": {},
   "exception": null,
   "input_path": "__notebook__.ipynb",
   "output_path": "__notebook__.ipynb",
   "parameters": {},
   "start_time": "2024-05-28T18:42:22.972097",
   "version": "2.5.0"
  }
 },
 "nbformat": 4,
 "nbformat_minor": 5
}
